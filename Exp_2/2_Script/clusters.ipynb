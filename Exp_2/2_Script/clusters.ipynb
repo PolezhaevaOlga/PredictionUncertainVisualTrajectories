{
 "cells": [
  {
   "cell_type": "code",
   "execution_count": null,
   "id": "5a04f728",
   "metadata": {},
   "outputs": [],
   "source": [
    "import pandas as pd\n",
    "import numpy as np\n",
    "from sklearn.decomposition import PCA\n",
    "import seaborn as sns\n",
    "import matplotlib.pyplot as plt\n",
    "# import scikitlearn \n",
    "from sklearn.cluster import KMeans"
   ]
  },
  {
   "cell_type": "code",
   "execution_count": null,
   "id": "1af25670",
   "metadata": {},
   "outputs": [],
   "source": [
    "data = pd.read_csv(\"all_subject_exp_1a_ANOVA.csv\", sep = ';')"
   ]
  },
  {
   "cell_type": "code",
   "execution_count": null,
   "id": "2c6a1d8f",
   "metadata": {},
   "outputs": [],
   "source": [
    "distortions = []\n",
    "K = range(1, 10)\n",
    "for k in K:\n",
    "    kmeanModel = KMeans(n_clusters=k, random_state=0)\n",
    "    kmeanModel.fit(data.iloc[:, 1:5])  # Fit the model to the features only\n",
    "    distortions.append(kmeanModel.inertia_)\n",
    "\n",
    "# Plotting the Elbow graph\n",
    "plt.figure(figsize=(16,8))\n",
    "plt.plot(K, distortions, 'bx-')\n",
    "plt.xlabel('Number of clusters (k)')\n",
    "plt.ylabel('Distortion (Inertia)')\n",
    "plt.title('The Elbow Method showing the optimal k')\n",
    "plt.show()"
   ]
  },
  {
   "cell_type": "code",
   "execution_count": null,
   "id": "d9cbcca3",
   "metadata": {},
   "outputs": [],
   "source": [
    "data_as_ms = data[['EQUAL_5 as_ms','EQUAL_15 as_ms','NOT_EQUAL_5 as_ms','NOT_EQUAL_15 as_ms']]   \n",
    "data_as_ms "
   ]
  },
  {
   "cell_type": "code",
   "execution_count": null,
   "id": "3b477e8e",
   "metadata": {},
   "outputs": [],
   "source": [
    "data_as_last = data[['EQUAL_5 as_last','EQUAL_15 as_last','NOT_EQUAL_5 as_last','NOT_EQUAL_15 as_last']]   \n",
    "data_as_last "
   ]
  },
  {
   "cell_type": "code",
   "execution_count": null,
   "id": "130251ac",
   "metadata": {},
   "outputs": [],
   "source": [
    "\n",
    "\n",
    "k = 3\n",
    "\n",
    "kmeans = KMeans(n_clusters=k, random_state=0).fit(data_as_ms)\n",
    "# kmeans = KMeans(n_clusters=k, random_state=0).fit(data[['EQUAL_5 as_ms','EQUAL_15 as_ms']])\n",
    "\n",
    "labels = kmeans.labels_\n",
    "data_as_ms_clusters = data_as_ms.copy()\n",
    "data_as_ms_clusters['cluster'] = labels\n",
    "\n",
    "pca = PCA(n_components=2)\n",
    "principal_components = pca.fit_transform(data_as_ms)\n",
    "\n",
    "principal_df = pd.DataFrame(data=principal_components, columns=['PC_1', 'PC_2'])\n",
    "principal_df['cluster'] = kmeans.labels_\n",
    "\n",
    "sns.scatterplot(x='PC_1', y='PC_2', hue='cluster', data=principal_df, palette='viridis', )\n",
    "centroids = pca.transform(kmeans.cluster_centers_)\n",
    "plt.scatter(centroids[:, 0], centroids[:, 1], c='red', s=50, marker='X')\n",
    "\n",
    "plt.title('')\n",
    "plt.show()"
   ]
  },
  {
   "cell_type": "code",
   "execution_count": null,
   "id": "30a12807",
   "metadata": {},
   "outputs": [],
   "source": [
    "from sklearn.metrics import silhouette_score, calinski_harabasz_score, davies_bouldin_score\n",
    "\n",
    "\n",
    "silhouette_avg = silhouette_score(data_as_ms, labels, metric='euclidean')\n",
    "calinski_harabasz_index = calinski_harabasz_score(data_as_ms, labels)\n",
    "davies_bouldin_index = davies_bouldin_score(data_as_ms, labels)\n",
    "\n",
    "print(silhouette_avg, calinski_harabasz_index, davies_bouldin_index)"
   ]
  },
  {
   "cell_type": "code",
   "execution_count": null,
   "id": "28b5d0a4",
   "metadata": {},
   "outputs": [],
   "source": [
    "from sklearn.metrics import silhouette_score, calinski_harabasz_score, davies_bouldin_score\n",
    "silhouette_avg = silhouette_score(data_as_ms, labels,metric = 'euclidean')\n",
    "calinski_harabasz_index = calinski_harabasz_score(data_as_ms, labels)\n",
    "davies_bouldin_index = davies_bouldin_score(data_as_ms, labels)\n",
    "silhouette_avg,calinski_harabasz_index,davies_bouldin_index"
   ]
  },
  {
   "cell_type": "code",
   "execution_count": null,
   "id": "f00beb95",
   "metadata": {},
   "outputs": [],
   "source": [
    "data_as_last_clusters['cluster'].to_list()"
   ]
  },
  {
   "cell_type": "code",
   "execution_count": null,
   "id": "5b0afe8c",
   "metadata": {},
   "outputs": [],
   "source": [
    "data_as_ms_clusters['cluster'].to_list()"
   ]
  },
  {
   "cell_type": "code",
   "execution_count": null,
   "id": "9c7e9718",
   "metadata": {},
   "outputs": [],
   "source": []
  },
  {
   "cell_type": "code",
   "execution_count": null,
   "id": "d9db8012",
   "metadata": {},
   "outputs": [],
   "source": []
  },
  {
   "cell_type": "code",
   "execution_count": null,
   "id": "b2fa13ab",
   "metadata": {},
   "outputs": [],
   "source": [
    "from sklearn.decomposition import PCA\n",
    "\n",
    "pca = PCA(n_components=2)\n",
    "data_2d_pca = pca.fit_transform(data)\n",
    "\n",
    "plt.figure(figsize=(5, 5))\n",
    "plt.scatter(data_2d_pca[:, 0], data_2d_pca[:, 1], c=cluster_labels, cmap='viridis', edgecolor='k')\n",
    "plt.title(\"PCA visualization of game clusters\")\n",
    "plt.xlabel(\"Principal Component 1\")\n",
    "plt.ylabel(\"Principal Component 2\")\n",
    "plt.show()"
   ]
  },
  {
   "cell_type": "code",
   "execution_count": null,
   "id": "1585557e",
   "metadata": {},
   "outputs": [],
   "source": [
    "from scipy.cluster.hierarchy import linkage, dendrogram\n",
    "import matplotlib.pyplot as plt\n",
    "\n",
    "linked = linkage(data, method='average')\n",
    "\n",
    "plt.figure(figsize=(10, 7))\n",
    "dendrogram(linked)\n",
    "plt.title('Hierarchical Clustering Dendrogram')\n",
    "plt.show()\n",
    "\n"
   ]
  },
  {
   "cell_type": "code",
   "execution_count": null,
   "id": "96a4abe5",
   "metadata": {},
   "outputs": [],
   "source": []
  },
  {
   "cell_type": "code",
   "execution_count": null,
   "id": "9c8566e8",
   "metadata": {},
   "outputs": [],
   "source": []
  },
  {
   "cell_type": "code",
   "execution_count": null,
   "id": "6c21b785",
   "metadata": {},
   "outputs": [],
   "source": []
  }
 ],
 "metadata": {
  "kernelspec": {
   "display_name": "Python 3 (ipykernel)",
   "language": "python",
   "name": "python3"
  },
  "language_info": {
   "codemirror_mode": {
    "name": "ipython",
    "version": 3
   },
   "file_extension": ".py",
   "mimetype": "text/x-python",
   "name": "python",
   "nbconvert_exporter": "python",
   "pygments_lexer": "ipython3",
   "version": "3.11.7"
  }
 },
 "nbformat": 4,
 "nbformat_minor": 5
}
