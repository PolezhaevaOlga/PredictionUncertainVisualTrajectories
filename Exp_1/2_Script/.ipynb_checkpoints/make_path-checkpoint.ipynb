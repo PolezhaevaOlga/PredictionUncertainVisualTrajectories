{
 "cells": [
  {
   "cell_type": "code",
   "execution_count": null,
   "id": "b8d525b6",
   "metadata": {},
   "outputs": [],
   "source": [
    "import random\n",
    "import math\n",
    "\n",
    "import numpy as np\n",
    "import matplotlib.pyplot as plt\n",
    "from matplotlib import animation\n",
    "from scipy import stats\n",
    "from scipy. special import rel_entr # Kullback-Leibler divergence\n",
    "import os\n",
    "import pandas as pd\n",
    "import pathlib"
   ]
  },
  {
   "cell_type": "code",
   "execution_count": null,
   "id": "e80d7a14",
   "metadata": {},
   "outputs": [],
   "source": [
    "def kl_divergence(p, q):\n",
    "    return sum(p[i] * math.log2(p[i]/q[i]) for i in range(len(p)))"
   ]
  },
  {
   "cell_type": "code",
   "execution_count": null,
   "id": "07719ed7",
   "metadata": {},
   "outputs": [],
   "source": [
    "def save_csv (rdw_list, name):\n",
    "    save =  np.zeros((150, 50))\n",
    "    for i in range(len(rdw_list)):\n",
    "#         save[:,i] = rdw_list[i]\n",
    "        save[:len(rdw_list[i]),i] = rdw_list[i]\n",
    "    save = save.astype('float')\n",
    "#         save[1:,][save[1:,] == 0] = np.nan\n",
    "    np.savetxt(name, save , delimiter=\",\")\n",
    "    return save"
   ]
  },
  {
   "cell_type": "markdown",
   "id": "2bfa18c4",
   "metadata": {},
   "source": [
    "###  IID and RDW left_left"
   ]
  },
  {
   "cell_type": "code",
   "execution_count": null,
   "id": "27bd0f59",
   "metadata": {},
   "outputs": [],
   "source": [
    "# search the number of visible points\n",
    "def search_f(path):\n",
    "    dif = []\n",
    "    for k in range(1,int(len(path)*0.4)+1): # 30 % of trajectory 200*0.3=  max njmbre of missing points = 40 pts\n",
    "        sd = round(np.std(path[0:-k]),4) # sd for point visible \n",
    "        sd_kstep = round(np.sqrt(k),4) # nombre the point to predicted sqrt(k)\n",
    "        dif.append(round(abs(sd_kstep-sd),4))\n",
    "    mi = np.min(dif)\n",
    "    f = dif.index(mi) # missing positions index\n",
    "    return f"
   ]
  },
  {
   "cell_type": "code",
   "execution_count": null,
   "id": "e1af6959",
   "metadata": {
    "scrolled": true
   },
   "outputs": [],
   "source": [
    "# found left_left sequenses\n",
    "n=150\n",
    "def seed_search (n):\n",
    "    f_left_left = []\n",
    "    rdw_left_left = []\n",
    "    for i in range(5000000):   \n",
    "        np.random.seed(i)# set random number generator to default value\n",
    "        r=np.random.randn(n,1) # these are the increments\n",
    "        x=np.zeros(n)\n",
    "        x[0]=0\n",
    "        for k in range(1,len(r)):\n",
    "            x[k]=x[k-1]+r[k] # here we get the random walk\n",
    "        stat, p = stats.shapiro(x)  # norm test Shapiro shapiro-wilk p - vall > 0.05\n",
    "    #     print('Statistics=%.3f, p-value=%.3f' % (stat, p))\n",
    "        if p >= 0.05: #p - vall > 0.05\n",
    "            if -2.5 <= np.mean( x[0:-(int(len(x)*0.07))] )<= - 0.9:# meand_distribution left\n",
    "                if 2<np.std(x[0:-(int(len(x)*0.07))])<= 3:\n",
    "                    f =  search_f(x) # n missing\n",
    "                    if x[-(f+1)] <= -2.5: # last visible point in the left side in 2.5° to center screen\n",
    "                        new_x = x[0:-(f)]\n",
    "                        rdw_left_left.append(new_x)\n",
    "                        print(f'std: {round(np.std(new_x),3)},f ={f+1}, x[-f+1]= {x[-(f+1)]};new_x = {new_x [-1]}; visible {len(new_x)} ')\n",
    "                        if len(rdw_left_left)>= 10 : \n",
    "                            break                                                   \n",
    "    print(len(rdw_left_left)) \n",
    "    \n",
    "    for i in range(50000000):   \n",
    "        np.random.seed(i)# set random number generator to default value\n",
    "        r=np.random.randn(n,1) # these are the increments\n",
    "        x=np.zeros(n)\n",
    "        x[0]=0\n",
    "        for k in range(1,len(r)):\n",
    "            x[k]=x[k-1]+r[k] # here we get the random walk\n",
    "        stat, p = stats.shapiro(x)  # norm test Shapiro shapiro-wilk p - vall > 0.05\n",
    "    #     print('Statistics=%.3f, p-value=%.3f' % (stat, p))\n",
    "        if p >= 0.05: #p - vall > 0.05\n",
    "            if -2.5 <= np.mean(x[0:-(int(len(x)*0.1))]) <= - 0.9:# meand_distribution left\n",
    "                if 3 < np.std(x[0:-(int(len(x)*0.1))])<= 4:\n",
    "                    f =  search_f(x)\n",
    "                    if x[-(f+1)] <= -2.5:# last visible point in the left side in 2.5° to center screen\n",
    "                        new_x = x[0:-(f)]\n",
    "                        rdw_left_left.append(new_x)\n",
    "\n",
    "                        print(f'std: {round(np.std(new_x),3)},f ={f+1}, x[-f+1]= {x[-(f+1)]};new_x = {new_x [-1]}; visible {len(new_x)} ')\n",
    "                        if len(rdw_left_left)>= 20: \n",
    "                            break\n",
    "    print(len(rdw_left_left)) \n",
    "    for i in range(50000000):   \n",
    "        np.random.seed(i)# set random number generator to default value\n",
    "        r=np.random.randn(n,1) # these are the increments\n",
    "        x=np.zeros(n)\n",
    "        x[0]=0\n",
    "        for k in range(1,len(r)):\n",
    "            x[k]=x[k-1]+r[k] # here we get the random walk\n",
    "        stat, p = stats.shapiro(x)  # norm test Shapiro shapiro-wilk p - vall > 0.05\n",
    "    #     print('Statistics=%.3f, p-value=%.3f' % (stat, p))\n",
    "        if p >= 0.05: #p - vall > 0.05\n",
    "            if -2.5 <= np.mean(x[0:-(int(len(x)*0.16))]) <= - 0.9:# meand_distribution left\n",
    "                if 4.1 < np.std(x[0:-(int(len(x)*0.16))])<= 5:\n",
    "                    f =  search_f(x)\n",
    "                    if x[-(f+1)] <= -2.5: # last visible point in the left side in 2.5° to center screen\n",
    "                        new_x = x[0:-(f)]\n",
    "                        rdw_left_left.append(new_x)\n",
    "\n",
    "                        print(f'std: {round(np.std(new_x),3)},f ={f+1}, x[-f+1]= {x[-(f+1)]};new_x = {new_x [-1]}; visible {len(new_x)} ')\n",
    "                        if len(rdw_left_left)>= 30 : \n",
    "                            break\n",
    "    print(len(rdw_left_left)) \n",
    "    \n",
    "    for i in range(500000000):   \n",
    "        np.random.seed(i)# set random number generator to default value\n",
    "        r=np.random.randn(n,1) # these are the increments\n",
    "        x=np.zeros(n)\n",
    "        x[0]=0\n",
    "        for k in range(1,len(r)):\n",
    "            x[k]=x[k-1]+r[k] # here we get the random walk\n",
    "        stat, p = stats.shapiro(x)  # norm test Shapiro shapiro-wilk p - vall > 0.05\n",
    "    #     print('Statistics=%.3f, p-value=%.3f' % (stat, p))\n",
    "        if p >= 0.05: #p - vall > 0.05\n",
    "            if -2.5 <= np.mean(x[0:-(int(len(x)*0.25))]) <= - 0.9:# meand_distribution left\n",
    "                if 5.1 < np.std(x[0:-(int(len(x)*0.25))])<= 6:\n",
    "                    f =  search_f(x)\n",
    "                    if x[-(f+1)] <= -2.5: # last visible point in the left side in 2.5° to center screen\n",
    "                        new_x = x[0:-(f)]\n",
    "                        rdw_left_left.append(new_x)\n",
    "\n",
    "                        print(f'std: {round(np.std(new_x),3)},f ={f+1}, x[-f+1]= {x[-(f+1)]};new_x = {new_x [-1]}; visible {len(new_x)} ')\n",
    "                        if len(rdw_left_left)>= 40: \n",
    "                            break\n",
    "    print(len(rdw_left_left))  \n",
    "    for i in range(500000000):   \n",
    "        np.random.seed(i)# set random number generator to default value\n",
    "        r=np.random.randn(n,1) # these are the increments\n",
    "        x=np.zeros(n)\n",
    "        x[0]=0\n",
    "        for k in range(1,len(r)):\n",
    "            x[k]=x[k-1]+r[k] # here we get the random walk\n",
    "        stat, p = stats.shapiro(x)  # norm test Shapiro shapiro-wilk p - vall > 0.05\n",
    "    #     print('Statistics=%.3f, p-value=%.3f' % (stat, p))\n",
    "        if p >= 0.05: #p - vall > 0.05\n",
    "            if -2.5 <= np.mean(x[0:-(int(len(x)*0.26))]) <= - 0.9:# meand_distribution left\n",
    "                if 6 < np.std(x[0:-(int(len(x)*0.26))])<= 9:\n",
    "                    f =  search_f(x)\n",
    "                    if x[-(f+1)] <= -2.5: # last visible point in the left side in 2.5° to center screen\n",
    "                        new_x = x[0:-(f)]\n",
    "                        rdw_left_left.append(new_x)\n",
    "\n",
    "                        print(f'std: {round(np.std(new_x),3)},f ={f+1}, x[-f+1]= {x[-(f+1)]};new_x = {new_x [-1]}; visible {len(new_x)} ')\n",
    "                        if len(rdw_left_left)>= 50 : \n",
    "                            break\n",
    "    print(len(rdw_left_left))  \n",
    "    return rdw_left_left, f_left_left"
   ]
  },
  {
   "cell_type": "code",
   "execution_count": null,
   "id": "36a722e7",
   "metadata": {},
   "outputs": [],
   "source": [
    "rdw_left_left, f_left_left = seed_search(n)"
   ]
  },
  {
   "cell_type": "code",
   "execution_count": null,
   "id": "94bbc30b",
   "metadata": {},
   "outputs": [],
   "source": [
    "for elem in rdw_left_left: \n",
    "    fig = plt.figure(figsize=(10, 10))\n",
    "    f= search_f(elem)\n",
    "#     print(f)\n",
    "    plt.plot(elem ,range(len(elem)),'o-')\n",
    "    plt.title(f'{elem[-1]}')\n",
    "    plt.gca().invert_yaxis()\n",
    "    plt.xlim(-20,20)\n",
    "    plt.ylim(210,-1)"
   ]
  },
  {
   "cell_type": "code",
   "execution_count": null,
   "id": "6debbba1",
   "metadata": {},
   "outputs": [],
   "source": [
    "rdw_left_left_save = save_csv (rdw_left_left, 'rdw_left_left_150.csv')"
   ]
  },
  {
   "cell_type": "code",
   "execution_count": null,
   "id": "cad63cd4",
   "metadata": {},
   "outputs": [],
   "source": [
    "for k in range(50):\n",
    "    fig = plt.figure(figsize=(10, 10))\n",
    "    f= search_f(rdw_left_left_save[:,k])\n",
    "    plt.plot(rdw_left_left_save[:-(f+1),k] ,range(rdw_left_left_save.shape[0]-(f+1)),'o-')\n",
    "    plt.title(f'f; {f+1} {rdw_left_left_save[-(f+1),k]}')\n",
    "    plt.gca().invert_yaxis()\n",
    "    plt.xlim(-20,20)\n",
    "    plt.ylim(210,-1)"
   ]
  },
  {
   "cell_type": "code",
   "execution_count": null,
   "id": "d0248713",
   "metadata": {
    "scrolled": true
   },
   "outputs": [],
   "source": [
    "## iid_left_left\n",
    "iid_left_left = []\n",
    "for elem in rdw_left_left :\n",
    "    iid = np.random.choice(elem[1:-1],len(elem)-2, replace =False)\n",
    "    iid = np.insert(iid, 0, elem[0]) # same start like rdw\n",
    "    iid =np.append(iid,elem[-1])\n",
    "    print(len(iid))\n",
    "    iid_left_left.append(iid)"
   ]
  },
  {
   "cell_type": "code",
   "execution_count": null,
   "id": "774fba6d",
   "metadata": {},
   "outputs": [],
   "source": [
    "iid_left_left_save = save_csv (iid_left_left, 'iid_left_left_150.csv')"
   ]
  },
  {
   "cell_type": "code",
   "execution_count": null,
   "id": "9d8f0edb",
   "metadata": {},
   "outputs": [],
   "source": [
    "#check\n",
    "for k in range(50):\n",
    "    fig = plt.figure(figsize=(10, 10))\n",
    "    f= search_f(iid_left_left_save[:,k])\n",
    "    plt.plot(iid_left_left_save[:-(f+1),k] ,range(iid_left_left_save.shape[0]-(f+1)),'o-')\n",
    "    plt.title(f'f; {f+1} {iid_left_left_save[-(f+1),k]}')\n",
    "    plt.gca().invert_yaxis()\n",
    "    plt.xlim(-20,20)\n",
    "    plt.ylim(210,-1)"
   ]
  },
  {
   "cell_type": "code",
   "execution_count": null,
   "id": "d012ee6e",
   "metadata": {},
   "outputs": [],
   "source": [
    "# #check\n",
    "# for k in range(50):\n",
    "#     fig = plt.figure(figsize=(10, 10))\n",
    "#     plt.plot(iid_left_left_save[:,k] ,range(iid_left_left_save.shape[0]),'o-')\n",
    "#     plt.gca().invert_yaxis()"
   ]
  },
  {
   "cell_type": "markdown",
   "id": "b8ca02dd",
   "metadata": {},
   "source": [
    "###  RDW and IID left_right"
   ]
  },
  {
   "cell_type": "code",
   "execution_count": null,
   "id": "69d7e93c",
   "metadata": {},
   "outputs": [],
   "source": [
    "# found left_right sequenses\n",
    "# found left_left sequenses\n",
    "n=150\n",
    "def seed_search2(n):\n",
    "    f_left_left = []\n",
    "    rdw_left_left = []\n",
    "\n",
    "    for i in range(5000000):   \n",
    "        np.random.seed(i)# set random number generator to default value\n",
    "        r=np.random.randn(n,1) # these are the increments\n",
    "        x=np.zeros(n)\n",
    "        x[0]=0\n",
    "        for k in range(1,len(r)):\n",
    "            x[k]=x[k-1]+r[k] # here we get the random walk\n",
    "        stat, p = stats.shapiro(x)  # norm test Shapiro shapiro-wilk p - vall > 0.05\n",
    "    #     print('Statistics=%.3f, p-value=%.3f' % (stat, p))\n",
    "        if p >= 0.05: #p - vall > 0.05\n",
    "            if -2.5 <= np.mean(x[0:-(int(len(x)*0.07))]) <= - 0.9:# meand_distribution left\n",
    "                if 2<np.std(x[0:-(int(len(x)*0.07))])<= 3:\n",
    "                    f =  search_f(x)\n",
    "                    if x[-(f+1)] > 2.5: # last visible point in the left side in 2.5° to center screen\n",
    "                        new_x = x[0:-(f)]\n",
    "                        rdw_left_left.append(new_x)\n",
    "                        f_left_left.append(f )\n",
    "                        print(f'std: {round(np.std(new_x),3)},f ={f+1}, x[-f+1]= {x[-(f+1)]};new_x = {new_x [-1]}; visible {len(new_x)} ')\n",
    "                        if len(rdw_left_left)>= 10 : \n",
    "                            break\n",
    "    print(len(rdw_left_left)) \n",
    "    \n",
    "    for i in range(5000000):   \n",
    "        np.random.seed(i)# set random number generator to default value\n",
    "        r=np.random.randn(n,1) # these are the increments\n",
    "        x=np.zeros(n)\n",
    "        x[0]=0\n",
    "        for k in range(1,len(r)):\n",
    "            x[k]=x[k-1]+r[k] # here we get the random walk\n",
    "        stat, p = stats.shapiro(x)  # norm test Shapiro shapiro-wilk p - vall > 0.05\n",
    "    #     print('Statistics=%.3f, p-value=%.3f' % (stat, p))\n",
    "        if p >= 0.05: #p - vall > 0.05\n",
    "            if -2.5 <= np.mean(x[0:-(int(len(x)*0.1))]) <= - 0.9:# meand_distribution left\n",
    "                if 3.1 < np.std(x[0:-(int(len(x)*0.1))])<= 4:\n",
    "                    f =  search_f(x)\n",
    "                    if x[-(f+1)] > 2.5:# last visible point in the left side in 2.5° to center screen\n",
    "                        new_x = x[0:-(f)]\n",
    "                        rdw_left_left.append(new_x)\n",
    "                        f_left_left.append(f )\n",
    "                        print(f'std: {round(np.std(new_x),3)},f ={f+1}, x[-f+1]= {x[-(f+1)]};new_x = {new_x [-1]}; visible {len(new_x)} ')\n",
    "                        if len(rdw_left_left)>= 20: \n",
    "                            break\n",
    "    print(len(rdw_left_left)) \n",
    "    for i in range(5000000):   \n",
    "        np.random.seed(i)# set random number generator to default value\n",
    "        r=np.random.randn(n,1) # these are the increments\n",
    "        x=np.zeros(n)\n",
    "        x[0]=0\n",
    "        for k in range(1,len(r)):\n",
    "            x[k]=x[k-1]+r[k] # here we get the random walk\n",
    "        stat, p = stats.shapiro(x)  # norm test Shapiro shapiro-wilk p - vall > 0.05\n",
    "    #     print('Statistics=%.3f, p-value=%.3f' % (stat, p))\n",
    "        if p >= 0.05: #p - vall > 0.05\n",
    "            if -2.5 <= np.mean(x[0:-(int(len(x)*0.16))]) <= - 0.9:# meand_distribution left\n",
    "                if 4.1 < np.std(x[0:-(int(len(x)*0.16))])<= 5:\n",
    "                    f =  search_f(x)\n",
    "                    if x[-(f+1)] > 2.5:# last visible point in the left side in 2.5° to center screen\n",
    "                        new_x = x[0:-(f)]\n",
    "                        rdw_left_left.append(new_x)\n",
    "                        f_left_left.append(f )\n",
    "                        print(f'std: {round(np.std(new_x),3)},f ={f+1}, x[-f+1]= {x[-(f+1)]};new_x = {new_x [-1]}; visible {len(new_x)} ')\n",
    "                        if len(rdw_left_left)>= 30: \n",
    "                            break\n",
    "    print(len(rdw_left_left)) \n",
    "    for i in range(500000000):   \n",
    "        np.random.seed(i)# set random number generator to default value\n",
    "        r=np.random.randn(n,1) # these are the increments\n",
    "        x=np.zeros(n)\n",
    "        x[0]=0\n",
    "        for k in range(1,len(r)):\n",
    "            x[k]=x[k-1]+r[k] # here we get the random walk\n",
    "        stat, p = stats.shapiro(x)  # norm test Shapiro shapiro-wilk p - vall > 0.05\n",
    "    #     print('Statistics=%.3f, p-value=%.3f' % (stat, p))\n",
    "        if p >= 0.05: #p - vall > 0.05\n",
    "            if -2.5 <= np.mean(x[0:-(int(len(x)*0.25))]) <= - 0.9:# meand_distribution left\n",
    "                if 5.1 < np.std(x[0:-(int(len(x)*0.25))])<= 6:\n",
    "                    f =  search_f(x)\n",
    "                    if x[-(f+1)] > 2.5:# last visible point in the left side in 2.5° to center screen\n",
    "                        new_x = x[0:-(f)]\n",
    "                        rdw_left_left.append(new_x)\n",
    "                        f_left_left.append(f )\n",
    "                        print(f'std: {round(np.std(new_x),3)},f ={f+1}, x[-f+1]= {x[-(f+1)]};new_x = {new_x [-1]}; visible {len(new_x)} ')\n",
    "                        if len(rdw_left_left)>= 40: \n",
    "                            break\n",
    "    print(len(rdw_left_left)) \n",
    "    for i in range(50000000):   \n",
    "        np.random.seed(i)# set random number generator to default value\n",
    "        r=np.random.randn(n,1) # these are the increments\n",
    "        x=np.zeros(n)\n",
    "        x[0]=0\n",
    "        for k in range(1,len(r)):\n",
    "            x[k]=x[k-1]+r[k] # here we get the random walk\n",
    "        stat, p = stats.shapiro(x)  # norm test Shapiro shapiro-wilk p - vall > 0.05\n",
    "    #     print('Statistics=%.3f, p-value=%.3f' % (stat, p))\n",
    "        if p >= 0.05: #p - vall > 0.05\n",
    "            if -2.5 <= np.mean(x[0:-(int(len(x)*0.26))]) <= - 0.9:# meand_distribution left\n",
    "                if 6 < np.std(x[0:-(int(len(x)*0.26))])<= 9:\n",
    "                    f =  search_f(x)\n",
    "                    if x[-(f+1)] > 2.5:# last visible point in the left side in 2.5° to center screen\n",
    "                        new_x = x[0:-(f)]\n",
    "                        rdw_left_left.append(new_x)\n",
    "                        f_left_left.append(f )\n",
    "                        print(f'std: {round(np.std(new_x),3)},f ={f+1}, x[-f+1]= {x[-(f+1)]};new_x = {new_x [-1]}; visible {len(new_x)} ')\n",
    "                        if len(rdw_left_left)>= 50: \n",
    "                            break\n",
    "    print(len(rdw_left_left))        \n",
    "    return rdw_left_left, f_left_left"
   ]
  },
  {
   "cell_type": "code",
   "execution_count": null,
   "id": "788be856",
   "metadata": {
    "scrolled": true
   },
   "outputs": [],
   "source": [
    "rdw_left_right,f_left_right=seed_search2(n)"
   ]
  },
  {
   "cell_type": "code",
   "execution_count": null,
   "id": "72170d0b",
   "metadata": {},
   "outputs": [],
   "source": [
    "for elem in rdw_left_right: \n",
    "    fig = plt.figure(figsize=(10, 10))\n",
    "    f= search_f(elem)\n",
    "#     print(f)\n",
    "    plt.plot(elem ,range(len(elem)),'o-')\n",
    "    plt.title(f'{elem[-1]}')\n",
    "    plt.gca().invert_yaxis()\n",
    "    plt.xlim(-20,20)\n",
    "#     print(f'f ={f}, x[-f]= {elem[-(f+1)]}')"
   ]
  },
  {
   "cell_type": "code",
   "execution_count": null,
   "id": "f8e5924e",
   "metadata": {},
   "outputs": [],
   "source": [
    "rdw_left_right_save = save_csv (rdw_left_right, 'rdw_left_right_150.csv')"
   ]
  },
  {
   "cell_type": "code",
   "execution_count": null,
   "id": "1b0018ed",
   "metadata": {},
   "outputs": [],
   "source": [
    "for k in range(50):\n",
    "    fig = plt.figure(figsize=(10, 10))\n",
    "    f= search_f(rdw_left_right_save[:,k])\n",
    "    plt.plot(rdw_left_right_save[:-(f+1),k] ,range(rdw_left_right_save.shape[0]-(f+1)),'o-')\n",
    "    plt.title(f'f= {f+1} {rdw_left_right_save[-(f+1),k]}')\n",
    "    plt.gca().invert_yaxis()\n",
    "    plt.xlim(-15,15)\n",
    "    plt.ylim(300,-1)"
   ]
  },
  {
   "cell_type": "code",
   "execution_count": null,
   "id": "57c21dd1",
   "metadata": {},
   "outputs": [],
   "source": [
    "## iid_left_right\n",
    "iid_left_right = []\n",
    "for elem in rdw_left_right :\n",
    "    iid = np.random.choice(elem[1:-1],len(elem)-2, replace =False)\n",
    "    iid = np.insert(iid, 0, elem[0]) # same start like rdw\n",
    "    iid =np.append(iid,elem[-1])\n",
    "    iid_left_right.append(iid)"
   ]
  },
  {
   "cell_type": "code",
   "execution_count": null,
   "id": "caacc648",
   "metadata": {},
   "outputs": [],
   "source": [
    "iid_left_right_save = save_csv (iid_left_right, 'iid_left_right_150.csv')"
   ]
  },
  {
   "cell_type": "code",
   "execution_count": null,
   "id": "21d0d1db",
   "metadata": {},
   "outputs": [],
   "source": [
    "# #check\n",
    "# for k in range(50):\n",
    "#     fig = plt.figure(figsize=(10, 10))\n",
    "#     plt.plot(iid_left_right_save[:,k] ,range(iid_left_right_save.shape[0]),'o-')\n",
    "#     plt.gca().invert_yaxis()"
   ]
  },
  {
   "cell_type": "markdown",
   "id": "17b6ea67",
   "metadata": {},
   "source": [
    "### RDW and IID right right"
   ]
  },
  {
   "cell_type": "code",
   "execution_count": null,
   "id": "57830776",
   "metadata": {},
   "outputs": [],
   "source": [
    "rdw_right_right = []\n",
    "for i in range(len(rdw_left_left)):\n",
    "    rdw_right_right.append(rdw_left_left[i]*(-1))"
   ]
  },
  {
   "cell_type": "code",
   "execution_count": null,
   "id": "dabb538a",
   "metadata": {},
   "outputs": [],
   "source": [
    "rdw_right_right_save = save_csv (rdw_right_right, 'rdw_right_right_150.csv')"
   ]
  },
  {
   "cell_type": "code",
   "execution_count": null,
   "id": "4f213eea",
   "metadata": {},
   "outputs": [],
   "source": [
    "def check_distribution (path_left, path_right, name_l, name_r):\n",
    "    for i in range(len(path_left)):\n",
    "        fig = plt.figure(figsize=(8, 8))\n",
    "        plt.plot(path_left[i] ,range(len(path_left[i])),'o-',label= name_l)\n",
    "        plt.plot(path_right[i] ,range(len(path_right[i])),'o-',label= name_r)\n",
    "        plt.xlabel('X position [deg]', fontname=\"Times New Roman\",fontsize=20)\n",
    "        plt.title(f' |mu|: {abs(round(np.mean(path_left[i]),3))}, σ: {round(np.std(path_left[i]),3)}',\n",
    "                  fontname=\"Times New Roman\", fontsize=20)\n",
    "        plt.ylabel('frame',fontname=\"Times New Roman\",fontsize=20)\n",
    "        plt.gca().invert_yaxis()\n",
    "        plt.xlim(-20,20)\n",
    "        plt.ylim(210,0)\n",
    "        plt.tick_params(axis='both', which='major', labelsize=15)\n",
    "        plt.legend(fontsize=15,loc='upper right')\n",
    "    "
   ]
  },
  {
   "cell_type": "code",
   "execution_count": null,
   "id": "363d14d4",
   "metadata": {
    "scrolled": true
   },
   "outputs": [],
   "source": [
    "check_distribution (rdw_left_left, rdw_right_right,'rdw_left_left', 'rdw_right_right')"
   ]
  },
  {
   "cell_type": "code",
   "execution_count": null,
   "id": "ff66dda5",
   "metadata": {},
   "outputs": [],
   "source": [
    "iid_right_right = []\n",
    "for i in range(len(iid_left_left)):\n",
    "    iid_right_right.append(iid_left_left[i]*(-1))"
   ]
  },
  {
   "cell_type": "code",
   "execution_count": null,
   "id": "6c492353",
   "metadata": {},
   "outputs": [],
   "source": [
    "iid_right_right_save = save_csv (iid_right_right, 'iid_right_right_150.csv')"
   ]
  },
  {
   "cell_type": "code",
   "execution_count": null,
   "id": "c2f4148f",
   "metadata": {
    "scrolled": true
   },
   "outputs": [],
   "source": [
    "check_distribution (iid_left_left, iid_right_right,'iid_left_left', 'iid_right_right')"
   ]
  },
  {
   "cell_type": "markdown",
   "id": "bfb7d5a3",
   "metadata": {},
   "source": [
    "### RDW and IID right left"
   ]
  },
  {
   "cell_type": "code",
   "execution_count": null,
   "id": "df18a48e",
   "metadata": {},
   "outputs": [],
   "source": [
    "rdw_right_left = []\n",
    "for i in range(len(rdw_left_right)):\n",
    "    rdw_right_left.append(rdw_left_right[i]*(-1))\n",
    "rdw_right_left_save = save_csv (rdw_right_left, 'rdw_right_left_150.csv')"
   ]
  },
  {
   "cell_type": "code",
   "execution_count": null,
   "id": "27157e0e",
   "metadata": {
    "scrolled": true
   },
   "outputs": [],
   "source": [
    "check_distribution (rdw_left_right, rdw_right_left,'rdw_left_right', 'rdw_right_left')"
   ]
  },
  {
   "cell_type": "code",
   "execution_count": null,
   "id": "fa32a95d",
   "metadata": {},
   "outputs": [],
   "source": []
  },
  {
   "cell_type": "code",
   "execution_count": null,
   "id": "c5e62bb6",
   "metadata": {},
   "outputs": [],
   "source": [
    "iid_right_left = []\n",
    "for i in range(len(iid_left_right)):\n",
    "    iid_right_left.append(iid_left_right[i]*(-1))\n",
    "iid_right_left_save = save_csv (iid_right_left, 'iid_right_left_150.csv')"
   ]
  },
  {
   "cell_type": "code",
   "execution_count": null,
   "id": "dee4c482",
   "metadata": {
    "scrolled": true
   },
   "outputs": [],
   "source": [
    "check_distribution (iid_left_right, iid_right_left,'iid_left_right', 'iid_right_left')"
   ]
  },
  {
   "cell_type": "markdown",
   "id": "7faa236d",
   "metadata": {},
   "source": [
    "## Found f +visual"
   ]
  },
  {
   "cell_type": "code",
   "execution_count": null,
   "id": "abfa7668",
   "metadata": {
    "scrolled": true
   },
   "outputs": [],
   "source": [
    "# path = rdw_left_left_save\n",
    "# name = 'rdw_left_left'\n",
    "def check_stimul (path, name):\n",
    "    for k in range(50):\n",
    "\n",
    "        fig = plt.figure(figsize=(8, 8))\n",
    "        f= search_f(path[:,k])\n",
    "        plt.plot(path[:-(f+1),k] ,range(path.shape[0]-(f+1)),'o-')\n",
    "        plt.plot(path[-(f+1),k],path.shape[0]-f, marker='o',color='r',label=f'last visibl' )\n",
    "    #     plt.scatter(rdw_left_left_save[-(f+1),k],rdw_left_left_save.shape[0]-f, marker='o', s= 50, color='w',\n",
    "    #                     label=f'last visibl (f = {f+1},√f={round(np.sqrt(f+1),3)})',\n",
    "    #                     linewidths=1,edgecolors=\"r\")\n",
    "        plt.title(f' {name} (mu: {round(np.mean(path[0:-(f+1),k]),3)}, σ: {round(np.std(path[0:-(f+1),k]),3)}, f_to_pred={f+1})',\n",
    "                      fontname=\"Times New Roman\", fontsize=20)\n",
    "    #     plt.title(f'f; {f+1} {rdw_left_left_save[-(f+1),k]}')\n",
    "        plt.legend(fontsize=15,loc='upper right')\n",
    "        plt.xlabel('X position [deg]', fontname=\"Times New Roman\",fontsize=20)\n",
    "        plt.ylabel('frame',fontname=\"Times New Roman\",fontsize=20)\n",
    "        plt.gca().invert_yaxis()\n",
    "        plt.tick_params(axis='both', which='major', labelsize=15)\n",
    "        plt.xlim(-20,20)\n",
    "        plt.ylim(210,-1)\n",
    "#         os.chdir(\"C:/Users/opolezh/Desktop/Paris Saclay/Thèse/2_SCRIPT/all_trajectory\")\n",
    "#         plt.savefig(f'{name}_{k}.png',bbox_inches = 'tight')"
   ]
  },
  {
   "cell_type": "code",
   "execution_count": null,
   "id": "f32c024c",
   "metadata": {},
   "outputs": [],
   "source": [
    "check_stimul (rdw_left_left_save,'rdw_left_left' )"
   ]
  },
  {
   "cell_type": "code",
   "execution_count": null,
   "id": "f266594f",
   "metadata": {},
   "outputs": [],
   "source": [
    "check_stimul (iid_left_left_save, 'iid_left_left' )"
   ]
  },
  {
   "cell_type": "code",
   "execution_count": null,
   "id": "94cb732b",
   "metadata": {},
   "outputs": [],
   "source": [
    "check_stimul (rdw_right_right_save, 'rdw_right_right' )"
   ]
  },
  {
   "cell_type": "code",
   "execution_count": null,
   "id": "e79b40a8",
   "metadata": {},
   "outputs": [],
   "source": [
    "check_stimul (iid_right_right_save, 'iid_right_right' )"
   ]
  },
  {
   "cell_type": "code",
   "execution_count": null,
   "id": "19167f22",
   "metadata": {},
   "outputs": [],
   "source": [
    "check_stimul (rdw_right_left_save, 'rdw_right_left' )"
   ]
  },
  {
   "cell_type": "code",
   "execution_count": null,
   "id": "b079c029",
   "metadata": {},
   "outputs": [],
   "source": [
    "check_stimul (iid_right_left_save, 'iid_right_left' )"
   ]
  },
  {
   "cell_type": "code",
   "execution_count": null,
   "id": "63edb651",
   "metadata": {},
   "outputs": [],
   "source": [
    "check_stimul (rdw_left_right_save, 'rdw_left_right' )"
   ]
  },
  {
   "cell_type": "code",
   "execution_count": null,
   "id": "3ad2eae2",
   "metadata": {
    "scrolled": true
   },
   "outputs": [],
   "source": [
    "check_stimul (iid_left_right_save, 'iid_left_right' )"
   ]
  },
  {
   "cell_type": "code",
   "execution_count": null,
   "id": "9824d88a",
   "metadata": {},
   "outputs": [],
   "source": []
  },
  {
   "cell_type": "code",
   "execution_count": null,
   "id": "24d9f8ea",
   "metadata": {},
   "outputs": [],
   "source": []
  }
 ],
 "metadata": {
  "kernelspec": {
   "display_name": "Python 3 (ipykernel)",
   "language": "python",
   "name": "python3"
  },
  "language_info": {
   "codemirror_mode": {
    "name": "ipython",
    "version": 3
   },
   "file_extension": ".py",
   "mimetype": "text/x-python",
   "name": "python",
   "nbconvert_exporter": "python",
   "pygments_lexer": "ipython3",
   "version": "3.11.7"
  }
 },
 "nbformat": 4,
 "nbformat_minor": 5
}
