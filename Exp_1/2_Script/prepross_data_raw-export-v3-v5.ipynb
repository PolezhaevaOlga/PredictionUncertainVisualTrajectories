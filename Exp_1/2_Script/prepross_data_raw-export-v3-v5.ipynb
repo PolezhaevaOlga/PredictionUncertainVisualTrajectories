{
 "cells": [
  {
   "cell_type": "code",
   "execution_count": null,
   "id": "ff935d56",
   "metadata": {},
   "outputs": [],
   "source": [
    "import pathlib\n",
    "import pandas as pd\n",
    "import numpy as np\n",
    "import matplotlib.pyplot as plt\n",
    "import nbconvert\n",
    "from scipy.stats import ttest_ind,ttest_rel\n",
    "from scipy.stats import ttest_ind,ttest_rel\n",
    "import researchpy as rp\n",
    "import scipy.stats as stats\n",
    "import warnings\n",
    "warnings.filterwarnings('ignore')"
   ]
  },
  {
   "cell_type": "code",
   "execution_count": null,
   "id": "7ee3fccf",
   "metadata": {},
   "outputs": [],
   "source": [
    "data_csv =  sorted(str(p) for p in pathlib.Path(\"C:/Users/opolezh/Desktop/Paris Saclay/These/4_DATA/data_exp_1/0_data_raw\").glob(\"*.csv\"))\n",
    "print(len(data_csv))\n",
    "# data_csv = data_csv[0]\n",
    "data_csv"
   ]
  },
  {
   "cell_type": "markdown",
   "id": "4ca80dc4",
   "metadata": {},
   "source": [
    "##  Data initial  + stat"
   ]
  },
  {
   "cell_type": "code",
   "execution_count": null,
   "id": "553c81db",
   "metadata": {},
   "outputs": [],
   "source": [
    "def calcul_stat (data_csv):\n",
    "    data_list = []\n",
    "    for elem in data_csv:\n",
    "        df = pd.read_csv(elem, header=0)\n",
    "        df_new  = df.drop(columns=['fix_start_time','dot_mvt_start_time','last_dot_time',\n",
    "                                  'button_pressed_time','line_cross_time','rest_time','end_time','start_exp_time',\n",
    "                                  'time_from_start [ces]','early_response (t/f)'])\n",
    "        prop_left = []\n",
    "        for elem in df_new['response']:\n",
    "            if elem  == 1: # right\n",
    "                prop_left.append(0)  # if right == true 0\n",
    "            else: # -1 left\n",
    "                prop_left.append(1) # if right\n",
    "        df_new.loc[:, \"prop_left\"] = prop_left\n",
    "        data_list.append(df_new)\n",
    "    return data_list"
   ]
  },
  {
   "cell_type": "code",
   "execution_count": null,
   "id": "b46186dd",
   "metadata": {},
   "outputs": [],
   "source": [
    "data_list = calcul_stat (data_csv)\n",
    "data_list[-2]"
   ]
  },
  {
   "cell_type": "code",
   "execution_count": null,
   "id": "387acef0",
   "metadata": {},
   "outputs": [],
   "source": [
    "def make_data_list (data_list):\n",
    "    for k in range(len(data_list)) :\n",
    "        exept_prop_left_lv = [] # expected_prop_left (rdw as last visible point)\n",
    "        exept_prop_left_ms = [] # expected_prop_left (rdw as mean side)\n",
    "\n",
    "        acc_lv = []\n",
    "        acc_ms  = []\n",
    "        condition = []\n",
    "        conditions = []\n",
    "        same_side_as_lv = [] # \n",
    "        same_side_as_ms = []\n",
    "        \n",
    "        for i in range(data_list[k].shape[0]):\n",
    "                if data_list[k]['last_visibl_side'][i] == 'left' and data_list[k]['prop_left'][i] == 1:\n",
    "                    same_side_as_lv.append(1)\n",
    "                if data_list[k]['last_visibl_side'][i] == 'left' and data_list[k]['prop_left'][i] == 0:\n",
    "                    same_side_as_lv.append(0)\n",
    "                if data_list[k]['last_visibl_side'][i] == 'right' and data_list[k]['prop_left'][i] == 0:\n",
    "                    same_side_as_lv.append(1)\n",
    "                if data_list[k]['last_visibl_side'][i] == 'right' and data_list[k]['prop_left'][i] == 1:\n",
    "                    same_side_as_lv.append(0)\n",
    "\n",
    "                if data_list[k]['mean_side'][i] == 'left' and data_list[k]['prop_left'][i] == 1:\n",
    "                    same_side_as_ms.append(1)\n",
    "                if data_list[k]['mean_side'][i] == 'left' and data_list[k]['prop_left'][i] == 0:\n",
    "                    same_side_as_ms.append(0)\n",
    "                if data_list[k]['mean_side'][i] == 'right' and data_list[k]['prop_left'][i] == 0:\n",
    "                    same_side_as_ms.append(1)\n",
    "                if data_list[k]['mean_side'][i] == 'right' and data_list[k]['prop_left'][i] == 1:\n",
    "                    same_side_as_ms.append(0)\n",
    "    \n",
    "    \n",
    "                if data_list[k]['mean_side'][i] =='left' and data_list[k]['last_visibl_side'][i] == 'left':\n",
    "                    conditions.append('LL')\n",
    "                if data_list[k]['mean_side'][i] =='left' and data_list[k]['last_visibl_side'][i] == 'right':\n",
    "                    conditions.append('LR')\n",
    "                if data_list[k]['mean_side'][i] =='right' and data_list[k]['last_visibl_side'][i] == 'left':\n",
    "                    conditions.append('RL')\n",
    "                if data_list[k]['mean_side'][i] =='right' and data_list[k]['last_visibl_side'][i] == 'right':\n",
    "                    conditions.append('RR')\n",
    "                    \n",
    "                if data_list[k]['mean_side'][i] =='left' and data_list[k]['last_visibl_side'][i] == 'left':\n",
    "                    condition.append('same')\n",
    "                if data_list[k]['mean_side'][i] =='left' and data_list[k]['last_visibl_side'][i] == 'right':\n",
    "                    condition.append('different')\n",
    "                if data_list[k]['mean_side'][i] =='right' and data_list[k]['last_visibl_side'][i] == 'left':\n",
    "                    condition.append('different')\n",
    "                if data_list[k]['mean_side'][i] =='right' and data_list[k]['last_visibl_side'][i] == 'right':\n",
    "                    condition.append('same')\n",
    "                # expected_prop_left (rdw as last visible point)\n",
    "                if data_list[k]['path'][i] =='rdw' and data_list[k]['last_visibl_side'][i] == 'left':\n",
    "                    exept = 1\n",
    "                    exept_prop_left_lv.append(exept)\n",
    "                    if data_list[k]['prop_left'][i] == exept:\n",
    "                        acc_lv.append(1)  \n",
    "                    else :  \n",
    "                        acc_lv.append(0)\n",
    "\n",
    "                elif data_list[k]['path'][i] =='rdw' and data_list[k]['last_visibl_side'][i] == 'right':\n",
    "                    exept = 0\n",
    "                    exept_prop_left_lv.append(exept)\n",
    "                    if data_list[k]['prop_left'][i] == exept:\n",
    "                        acc_lv.append(1)  \n",
    "                    else :  \n",
    "                        acc_lv.append(0)\n",
    "\n",
    "                elif data_list[k]['path'][i] =='iid' and data_list[k]['mean_side'][i] == 'left':\n",
    "                    exept = 1\n",
    "                    exept_prop_left_lv.append(exept)\n",
    "                    if data_list[k]['prop_left'][i] == exept:\n",
    "                        acc_lv.append(1)  \n",
    "                    else :  \n",
    "                        acc_lv.append(0)\n",
    "                elif data_list[k]['path'][i] =='iid' and data_list[k]['mean_side'][i] == 'right':\n",
    "                    exept = 0\n",
    "                    exept_prop_left_lv.append(exept)\n",
    "                    if data_list[k]['prop_left'][i] == exept:\n",
    "                        acc_lv.append(1)  \n",
    "                    else :  \n",
    "                        acc_lv.append(0)\n",
    "               # expected_prop_left (rdw as mean side)     \n",
    "                if data_list[k]['path'][i] =='rdw' and data_list[k]['mean_side'][i] == 'left':\n",
    "                    exept = 1\n",
    "                    exept_prop_left_ms.append(exept)\n",
    "                    if data_list[k]['prop_left'][i] == exept:\n",
    "                        acc_ms.append(1)  \n",
    "                    else :  \n",
    "                        acc_ms.append(0)           \n",
    "                elif data_list[k]['path'][i] =='rdw' and data_list[k]['mean_side'][i] == 'right':\n",
    "                    exept = 0\n",
    "                    exept_prop_left_ms.append(exept)\n",
    "                    if data_list[k]['prop_left'][i] == exept:\n",
    "                        acc_ms.append(1)  \n",
    "                    else :  \n",
    "                        acc_ms.append(0) \n",
    "                elif data_list[k]['path'][i] =='iid' and data_list[k]['mean_side'][i] == 'left':\n",
    "                    exept = 1\n",
    "                    exept_prop_left_ms.append(exept)\n",
    "                    if data_list[k]['prop_left'][i] == exept:\n",
    "                        acc_ms.append(1)  \n",
    "                    else :  \n",
    "                        acc_ms.append(0) \n",
    "                elif data_list[k]['path'][i] =='iid' and data_list[k]['mean_side'][i] == 'right':\n",
    "                    exept = 0\n",
    "                    exept_prop_left_ms.append(exept)\n",
    "                    if data_list[k]['prop_left'][i] == exept:\n",
    "                        acc_ms.append(1)  \n",
    "                    else :  \n",
    "                        acc_ms.append(0) \n",
    "        data_list[k]['RT_s'] = data_list[k]['RT']/1000 # add colums RT in ms   \n",
    "        data_list[k].drop(columns=['trial','RT'],inplace=True)\n",
    "\n",
    "    #     data_clean_list[k].drop(columns=['trial','mean_val','sd','last_visibl_center_dist[deg]','f_missing_pos','RT'],inplace=True)    \n",
    "\n",
    "        data_list[k].insert(0, \"# subj\", np.ones(len(data_list[k]), dtype=int)*int(k), True)\n",
    "        data_list[k].insert(3, \"conditions\", conditions, True)\n",
    "        data_list[k].insert(4, \"condition\", condition, True)\n",
    "\n",
    "#         data_list[k][\"exept_prop_left_lv\"] = exept_prop_left_lv\n",
    "        data_list[k][\"acc_lv\"] = acc_lv\n",
    "        data_list[k][\"same_side_as_lv\"] = same_side_as_lv\n",
    "        data_list[k][\"same_side_as_ms\"] = same_side_as_ms\n",
    "    \n",
    "#         data_list[k][\"exept_prop_left_ms\"] = exept_prop_left_ms\n",
    "#         data_list[k][\"acc_ms\"] = acc_ms  \n",
    "        cond_sum = []\n",
    "        for i in range(data_list[k].shape[0]):\n",
    "                if data_list[k]['path'][i] =='iid' and data_list[k]['condition'][i] == 'same':\n",
    "                    cond_sum.append('iid_same')\n",
    "                if data_list[k]['path'][i] =='iid' and data_list[k]['condition'][i] == 'different':\n",
    "                    cond_sum.append('iid_different')\n",
    "\n",
    "\n",
    "                if data_list[k]['path'][i] =='rdw' and data_list[k]['condition'][i] == 'same':\n",
    "                    cond_sum.append('rdw_same')\n",
    "                if data_list[k]['path'][i] =='rdw' and data_list[k]['condition'][i] == 'different':\n",
    "                    cond_sum.append('rdw_different')\n",
    "\n",
    "        data_list[k].insert(5, \"cond_sum\", cond_sum, True)\n",
    "    return data_list"
   ]
  },
  {
   "cell_type": "code",
   "execution_count": null,
   "id": "ba14cd84",
   "metadata": {},
   "outputs": [],
   "source": [
    "data_list = make_data_list (data_list)\n",
    "data_list[-1]"
   ]
  },
  {
   "cell_type": "markdown",
   "id": "be2e09c5",
   "metadata": {},
   "source": [
    "##  Suprimer des anomalies IQR method"
   ]
  },
  {
   "cell_type": "markdown",
   "id": "8a6ee0a5",
   "metadata": {},
   "source": [
    "####  Find the first quartile, Q1.\n",
    "\n",
    "#### Find the third quartile, Q3.\n",
    "#### Calculate the IQR. IQR= Q3-Q1.\n",
    "#### Define the normal data range with lower limit as Q1–1.5*IQR and upper limit as Q3+1.5*IQR."
   ]
  },
  {
   "attachments": {
    "image.png": {
     "image/png": "[encoded data removed]"
    }
   },
   "cell_type": "markdown",
   "id": "7ac6f392",
   "metadata": {},
   "source": [
    "![image.png](attachment:image.png)"
   ]
  },
  {
   "cell_type": "code",
   "execution_count": null,
   "id": "fc481a47",
   "metadata": {},
   "outputs": [],
   "source": [
    "def remove_anomaly_IQR(data_list):\n",
    "    data_clean_list = []\n",
    "    for elem in data_list:\n",
    "        df = elem\n",
    "        up_rdw = df.groupby(\"path\")['RT_s'].quantile(0.75)[1] +1.5*(df.groupby(\"path\")['RT_s'].quantile(0.75)[1]-df.groupby(\"path\")['RT_s'].quantile(0.25)[1])\n",
    "        up_iid= df.groupby(\"path\")['RT_s'].quantile(0.75)[0] +1.5*(df.groupby(\"path\")['RT_s'].quantile(0.75)[0]-df.groupby(\"path\")['RT_s'].quantile(0.25)[0])\n",
    "        \n",
    "        df.loc[(df['path'] == 'rdw') & (df['RT_s'] > up_rdw), 'RT_s'] = df.groupby(\"path\")['RT_s'].median()[1]\n",
    "        df.loc[(df['path'] == 'iid') & (df['RT_s'] > up_iid), 'RT_s'] = df.groupby(\"path\")['RT_s'].median()[0]\n",
    "        data_clean_list.append(df)\n",
    "    return data_clean_list       "
   ]
  },
  {
   "cell_type": "code",
   "execution_count": null,
   "id": "f54ecd52",
   "metadata": {},
   "outputs": [],
   "source": [
    "data_clean_list = remove_anomaly_IQR(data_list)\n",
    "data_clean_list[-1]"
   ]
  },
  {
   "cell_type": "code",
   "execution_count": null,
   "id": "b38d4c2e",
   "metadata": {},
   "outputs": [],
   "source": [
    "data_clean_list = remove_anomaly_IQR(data_list)\n",
    "data_clean_list[-1]"
   ]
  },
  {
   "cell_type": "code",
   "execution_count": null,
   "id": "68c748d8",
   "metadata": {
    "scrolled": true
   },
   "outputs": [],
   "source": [
    "for elem in data_clean_list:\n",
    "    fig =plt.figure(figsize=(5, 5))\n",
    "    elem.groupby(\"path\")['RT_s'].plot(legend = True)\n",
    "    plt.xlabel('trial')\n",
    "    plt.ylabel('RT [s]')\n",
    "    plt.ylim(0,2)"
   ]
  },
  {
   "cell_type": "code",
   "execution_count": null,
   "id": "7762b81d",
   "metadata": {},
   "outputs": [],
   "source": [
    "for elem in data_clean_list:\n",
    "    fig =plt.figure(figsize=(5, 5))\n",
    "    elem.groupby(\"path\")['RT_s'].plot.hist(legend = True)\n",
    "    plt.xlim(0,2)"
   ]
  },
  {
   "cell_type": "code",
   "execution_count": null,
   "id": "d2b770b3",
   "metadata": {},
   "outputs": [],
   "source": [
    "mean_rt = []\n",
    "sd_rt = []\n",
    "for elem in data_clean_list:\n",
    "    mean_rt.append(elem.groupby(\"path\")['RT_s'].mean())\n",
    "    sd_rt.append(elem.groupby(\"path\")['RT_s'].std())\n",
    "mean_df_clean = pd.concat([pd.DataFrame(mean_rt,index = np.array(range(len(mean_rt)))), pd.DataFrame(sd_rt,index = np.array(range(len(mean_rt))))], axis=1)\n",
    "mean_df_clean.set_axis([\"iid_mean\", \"rdw_mean\", \"iid_std\",'rdw_sdt'],axis=1,inplace=True)"
   ]
  },
  {
   "cell_type": "code",
   "execution_count": null,
   "id": "03aab266",
   "metadata": {
    "scrolled": true
   },
   "outputs": [],
   "source": [
    "mean_df_clean"
   ]
  },
  {
   "cell_type": "code",
   "execution_count": null,
   "id": "4a5c5ccf",
   "metadata": {},
   "outputs": [],
   "source": [
    "mean_df_clean"
   ]
  },
  {
   "cell_type": "code",
   "execution_count": null,
   "id": "351fbfa1",
   "metadata": {},
   "outputs": [],
   "source": [
    "mean_df_clean.describe()"
   ]
  },
  {
   "cell_type": "markdown",
   "id": "2de4380f",
   "metadata": {},
   "source": [
    "## Save"
   ]
  },
  {
   "cell_type": "code",
   "execution_count": null,
   "id": "5bdaa402",
   "metadata": {},
   "outputs": [],
   "source": []
  },
  {
   "cell_type": "code",
   "execution_count": null,
   "id": "a518428e",
   "metadata": {},
   "outputs": [],
   "source": [
    "# save\n",
    "import os\n",
    "for i in range(len(data_clean_list)):\n",
    "    os.chdir(\"C:/Users/opolezh/Desktop/Paris Saclay/These/4_DATA/data_exp_1/data_clean_v5\")\n",
    "    data_clean_list[i].to_csv(f'subj_{i}.csv', index= False, sep ='\\t')"
   ]
  },
  {
   "cell_type": "code",
   "execution_count": null,
   "id": "a0261762",
   "metadata": {},
   "outputs": [],
   "source": [
    "colums =data_clean_list[-1].columns.values.tolist()\n",
    "np_ = np.empty((0,len(colums)))\n",
    "for elem in data_clean_list:\n",
    "    #read new_csv -> new_list_\n",
    "    new_np = elem.to_numpy()\n",
    "    np_ = np.concatenate([np_, elem.to_numpy()], axis=0)\n",
    "all_subj_df = pd.DataFrame(np_)\n",
    "all_subj_df.set_axis(colums,axis=1,inplace=True)\n",
    "all_subj_df.to_csv('all_subject_exp_1.csv', index= False, sep ='\\t')"
   ]
  },
  {
   "cell_type": "code",
   "execution_count": null,
   "id": "286eb306",
   "metadata": {},
   "outputs": [],
   "source": [
    "all_subj_df"
   ]
  },
  {
   "cell_type": "code",
   "execution_count": null,
   "id": "ccd1ade6",
   "metadata": {},
   "outputs": [],
   "source": [
    "data_clean_list[0]"
   ]
  },
  {
   "cell_type": "code",
   "execution_count": null,
   "id": "f8ef527e",
   "metadata": {},
   "outputs": [],
   "source": [
    "colums =data_clean_list[-1].columns.values.tolist()\n",
    "np_rdw = np.empty((0,len(colums)))\n",
    "np_iid = np.empty((0,len(colums)))\n",
    "for elem in data_clean_list:\n",
    "    iid =elem.sort_values('path',ignore_index = True, ascending= True)[0:200].to_numpy()\n",
    "    rdw =elem.sort_values('path',ignore_index = True, ascending= True)[200:].to_numpy()\n",
    "    #new_np = elem.to_numpy()\n",
    "    np_iid = np.concatenate([np_iid, iid], axis=0)\n",
    "    np_rdw = np.concatenate([np_rdw, rdw], axis=0)\n",
    "    \n",
    "all_subj_iid = pd.DataFrame(np_iid)\n",
    "all_subj_rdw = pd.DataFrame(np_rdw)\n",
    "\n",
    "all_subj_iid.set_axis(colums,axis=1,inplace=True)\n",
    "all_subj_rdw.set_axis(colums,axis=1,inplace=True)\n",
    "all_subj_iid.to_csv('all_subject_iid.csv', index= False, sep ='\\t')\n",
    "all_subj_rdw.to_csv('all_subject_rdw.csv', index= False, sep ='\\t')"
   ]
  },
  {
   "cell_type": "code",
   "execution_count": null,
   "id": "c837c525",
   "metadata": {},
   "outputs": [],
   "source": [
    "data_clean_list[-1]"
   ]
  },
  {
   "cell_type": "code",
   "execution_count": null,
   "id": "ab9d4b5d",
   "metadata": {},
   "outputs": [],
   "source": [
    "test = data_clean_list[-1]\n",
    "iid = test.sort_values('path',ignore_index = True, ascending= True)[0:200]\n",
    "rdw = test.sort_values('path',ignore_index = True, ascending= True)[200:]"
   ]
  },
  {
   "cell_type": "code",
   "execution_count": null,
   "id": "19fe031e",
   "metadata": {},
   "outputs": [],
   "source": [
    "\n"
   ]
  },
  {
   "cell_type": "code",
   "execution_count": null,
   "id": "ce9d94c7",
   "metadata": {},
   "outputs": [],
   "source": [
    "for i in range(len(data_clean_list)):\n",
    "    iid =data_clean_list[i].sort_values('path',ignore_index = True, ascending= True)[0:200]\n",
    "    rdw =data_clean_list[i].sort_values('path',ignore_index = True, ascending= True)[200:]\n",
    "    \n",
    "    iid_diff = iid.sort_values('condition',ignore_index = True, ascending= True)[0:100].to_csv(f'iid_diff_s_{i}.csv', index= False, sep ='\\t')\n",
    "    iid_same = iid.sort_values('condition',ignore_index = True, ascending= True)[100:].to_csv(f'iid_same_s_{i}.csv', index= False, sep ='\\t')\n",
    "\n",
    "    rdw_diff = rdw.sort_values('condition',ignore_index = True, ascending= True)[0:100].to_csv(f'rdw_diff_s_{i}.csv', index= False, sep ='\\t')\n",
    "    rdw_same = rdw.sort_values('condition',ignore_index = True, ascending= True)[100:].to_csv(f'rdw_same_s_{i}.csv', index= False, sep ='\\t')\n",
    "    "
   ]
  },
  {
   "cell_type": "code",
   "execution_count": null,
   "id": "dacd84ca",
   "metadata": {},
   "outputs": [],
   "source": [
    "for i in range(len(data_clean_list)):\n",
    "    iid =data_clean_list[i].sort_values('path',ignore_index = True, ascending= True)[0:200]\n",
    "    rdw =data_clean_list[i].sort_values('path',ignore_index = True, ascending= True)[200:]\n",
    "    iid =data_clean_list[i].sort_values('path',ignore_index = True, ascending= True)[0:200].to_csv(f'iid_subj_{i}.csv', index= False, sep ='\\t')\n",
    "    rdw =data_clean_list[i].sort_values('path',ignore_index = True, ascending= True)[200:].to_csv(f'rdw_subj_{i}.csv', index= False, sep ='\\t')"
   ]
  },
  {
   "cell_type": "markdown",
   "id": "5b6569e2",
   "metadata": {},
   "source": [
    "### Moyenne de proportion"
   ]
  },
  {
   "cell_type": "code",
   "execution_count": null,
   "id": "630c510c",
   "metadata": {},
   "outputs": [],
   "source": [
    "mean_prop_tot = []\n",
    "mean_prop_mean_side = []\n",
    "mean_prop_lv_side= []\n",
    "for elem in data_clean_list:\n",
    "    mean_prop_tot.append(elem.groupby(['path', 'conditions',])['prop_left'].mean())\n",
    "    mean_prop_mean_side.append(elem.groupby(['path', 'mean_side'])['prop_left'].mean())\n",
    "    mean_prop_lv_side.append(elem.groupby(['path', 'last_visibl_side'])['prop_left'].mean())\n",
    "mean_prop_tot_df = pd.DataFrame(mean_prop_tot,index = np.array(range(len(mean_prop_tot))))\n",
    "mean_prop_mean_side_df = pd.DataFrame(mean_prop_mean_side,index = np.array(range(len(mean_prop_mean_side))))\n",
    "mean_prop_lv_side_df= pd.DataFrame(mean_prop_lv_side,index = np.array(range(len(mean_prop_lv_side))))"
   ]
  },
  {
   "cell_type": "code",
   "execution_count": null,
   "id": "baab87e8",
   "metadata": {},
   "outputs": [],
   "source": [
    "mean_prop_tot_df.describe().drop(index=['25%','50%','75%']).round(3)"
   ]
  },
  {
   "cell_type": "code",
   "execution_count": null,
   "id": "2dc81837",
   "metadata": {
    "scrolled": true
   },
   "outputs": [],
   "source": [
    "corelation = []\n",
    "for elem in data_clean_list: \n",
    "    df  = elem\n",
    "    #df = elem.sort_values('path',ignore_index = True, ascending= False)\n",
    "    df[['mean_val','last_visibl_center_dist[deg]']] = df[['mean_val','last_visibl_center_dist[deg]']].abs()\n",
    "    corelation.append(df.groupby(\"path\")[['sd','RT_s','mean_val','last_visibl_center_dist[deg]']].corr().round(5)) \n",
    "\n",
    "cor_df = pd.concat([pd.DataFrame(corelation[0]['RT_s']), pd.DataFrame(corelation[1]['RT_s']),pd.DataFrame(corelation[2]['RT_s']),pd.DataFrame(corelation[3]['RT_s']),\n",
    "                    pd.DataFrame(corelation[4]['RT_s']),pd.DataFrame(corelation[5]['RT_s']),pd.DataFrame(corelation[6]['RT_s']),\n",
    "                   pd.DataFrame(corelation[7]['RT_s']),pd.DataFrame(corelation[8]['RT_s'])], axis=1)\n",
    "cor_df.set_axis((range(0,9)),axis=1,inplace=True)"
   ]
  },
  {
   "cell_type": "code",
   "execution_count": null,
   "id": "a35e8ac8",
   "metadata": {},
   "outputs": [],
   "source": []
  }
 ],
 "metadata": {
  "kernelspec": {
   "display_name": "Python 3 (ipykernel)",
   "language": "python",
   "name": "python3"
  },
  "language_info": {
   "codemirror_mode": {
    "name": "ipython",
    "version": 3
   },
   "file_extension": ".py",
   "mimetype": "text/x-python",
   "name": "python",
   "nbconvert_exporter": "python",
   "pygments_lexer": "ipython3",
   "version": "3.11.7"
  }
 },
 "nbformat": 4,
 "nbformat_minor": 5
}
