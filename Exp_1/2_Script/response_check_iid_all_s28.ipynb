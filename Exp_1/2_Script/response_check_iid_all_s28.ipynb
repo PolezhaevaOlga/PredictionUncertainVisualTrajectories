{
 "cells": [
  {
   "cell_type": "code",
   "execution_count": null,
   "id": "a2d3cfdf",
   "metadata": {},
   "outputs": [],
   "source": [
    "import random\n",
    "import numpy as np\n",
    "import matplotlib.pyplot as plt\n",
    "import pathlib\n",
    "import pandas as pd\n",
    "import scipy\n",
    "from scipy.optimize import minimize\n",
    "from scipy import io"
   ]
  },
  {
   "cell_type": "code",
   "execution_count": null,
   "id": "68fd7dce",
   "metadata": {},
   "outputs": [],
   "source": [
    "# Load data\n",
    "data = scipy.io.loadmat('trajectories.mat')\n",
    "# Path\n",
    "iid = data['iidind'][2:,]\n",
    "rdw = data['rdwind'][2:,]\n",
    "posr = np.zeros((iid.shape[0] - 1, iid.shape[1]))\n",
    "posw = np.zeros((rdw.shape[0]-1,rdw.shape[1]))\n",
    "n_path = posr.shape[1]\n",
    "invis = []\n",
    "label_iid =np.zeros((1, n_path)) # ideal responses\n",
    "label_rdw = np.zeros((1, n_path)) # ideal responses\n",
    "for tidx in range(n_path):\n",
    "    # IID\n",
    "    invisR = int(iid[0, tidx])\n",
    "    invis.append(invisR)\n",
    "    r = iid[1:, tidx].copy()\n",
    "    r[-invisR + 1:] = np.nan\n",
    "    posr[:, tidx] = r  \n",
    "    label_iid[0, tidx] = 1 if np.nanmean(posr[:, tidx]) < 0 else 0\n",
    "    # rdw \n",
    "    w = rdw[1:, tidx].copy()\n",
    "    w[-invisR+1:] = np.nan\n",
    "    posw[:,tidx] = w\n",
    "    label_rdw[0, tidx] = 1 if posw[-invis[tidx],tidx]< 0 else 0"
   ]
  },
  {
   "cell_type": "code",
   "execution_count": null,
   "id": "38862008",
   "metadata": {},
   "outputs": [],
   "source": [
    "label_iid_same = np.hstack((label_iid[:,0:50], label_iid[:,150:]))\n",
    "label_iid_opposite = label_iid[:,50:150]\n",
    "label_rdw_same = np.hstack((label_rdw[:,0:50], label_rdw[:,150:]))\n",
    "label_rdw_opposite = label_rdw[:,50:150]\n",
    "label_iid_same.shape, label_iid_opposite.shape, label_rdw_same.shape, label_rdw_opposite.shape"
   ]
  },
  {
   "cell_type": "code",
   "execution_count": null,
   "id": "dfb33954",
   "metadata": {},
   "outputs": [],
   "source": [
    "posr_same = np.hstack((posr[:,0:50], posr[:,150:]))\n",
    "posr_opposite = posr[:,50:150]\n",
    "posw_same = np.hstack((posw[:,0:50], posw[:,150:]))\n",
    "posw_opposite = posw[:,50:150]\n",
    "\n",
    "posr_same.shape, posr_opposite.shape, posw_same.shape, posw_opposite.shape"
   ]
  },
  {
   "cell_type": "markdown",
   "id": "e826f188",
   "metadata": {},
   "source": [
    "### Load subjects responce"
   ]
  },
  {
   "cell_type": "code",
   "execution_count": null,
   "id": "b97eae98",
   "metadata": {},
   "outputs": [],
   "source": [
    "resp_rdw = pd.read_csv('C:/Users/USER/Desktop/Paris Saclay/These/5_MODEL/BM_exp_1/path_check/resp/Subjects_28/resp_rdw.csv', header=None).to_numpy()\n",
    "resp_iid = pd.read_csv('C:/Users/USER/Desktop/Paris Saclay/These/5_MODEL/BM_exp_1/path_check/resp/Subjects_28/resp_iid.csv', header=None).to_numpy()\n",
    "resp_iid"
   ]
  },
  {
   "cell_type": "code",
   "execution_count": null,
   "id": "294552fc",
   "metadata": {},
   "outputs": [],
   "source": []
  },
  {
   "cell_type": "code",
   "execution_count": null,
   "id": "110ce0f9",
   "metadata": {},
   "outputs": [],
   "source": [
    "resp_iid_same =  np.vstack((resp_iid[0:50:,], resp_iid[150::,]))\n",
    "resp_iid_opposite = resp_iid[50:150:,]\n",
    "resp_rdw_same= np.vstack((resp_rdw[0:50:,], resp_rdw[150::,]))\n",
    "resp_rdw_opposite = resp_rdw[50:150:,]"
   ]
  },
  {
   "cell_type": "code",
   "execution_count": null,
   "id": "146683b2",
   "metadata": {},
   "outputs": [],
   "source": [
    "# resp_iid_same_1 =  pd.read_csv('resp_iid_same.csv', header=None).to_numpy()\n",
    "# resp_iid_diff_1 =pd.read_csv('resp_iid_diff.csv', header=None).to_numpy()\n",
    "# resp_rdw_same_1= pd.read_csv('resp_rdw_same.csv', header=None).to_numpy()\n",
    "# resp_rdw_dif_1 = pd.read_csv('resp_rdw_diff.csv', header=None).to_numpy()"
   ]
  },
  {
   "cell_type": "code",
   "execution_count": null,
   "id": "68afa1e2",
   "metadata": {},
   "outputs": [],
   "source": [
    "#plot\n",
    "def plotting (posr,posw):\n",
    "    n_path = posr.shape[1]\n",
    "    for i in range(n_path):\n",
    "    \n",
    "        fig = plt.figure(figsize=(10, 5))\n",
    "        inv = np.count_nonzero(np.isnan(posr[:, i]))+1\n",
    "        if np.nanmean(posr[:, i]) < 0:\n",
    "            mean_side = 'L'\n",
    "        else : \n",
    "            mean_side = 'R'\n",
    "        if posr[:, i][-inv] < 0 :\n",
    "            lv = 'L'\n",
    "        else :\n",
    "            lv = 'R'\n",
    "        if mean_side == 'L' and lv == \"L\" or mean_side == 'R' and lv == \"R\" :\n",
    "            cond =\"same\"\n",
    "        else: \n",
    "            cond = \"opposite\"   \n",
    "        plt.subplot(2, 1, 1)\n",
    "        plt.plot(range(posr[:, i].shape[0]), posr[:, i], label='iid', linewidth=1,alpha = 0.001)\n",
    "        plt.plot(range(posw[:, i].shape[0]), posw[:, i], label='rdw', linewidth=1)\n",
    "        plt.plot([len(posr[:, i]) - inv, len(posr[:, i]) - inv], plt.ylim(), '--')\n",
    "        plt.hlines(0, 0, len(posr[:, i]),'k',  alpha=0.2)\n",
    "\n",
    "        plt.subplots_adjust(hspace=0)\n",
    "    #     plt.title(f\"IID path ({mean_side}{lv}{cond})\")\n",
    "        plt.ylim(-15, 15)\n",
    "        plt.xlim(0, 150)\n",
    "        plt.ylabel(\"X position\", fontsize=12)\n",
    "        plt.legend()\n",
    "\n",
    "        plt.subplots_adjust(hspace=0)\n",
    "        plt.title(f\"path {i} {cond}, (mu: {round(np.nanmean(posr[:, i]),3)}, sd: {round(np.nanstd(posr[:, i]),3)} ) \")\n",
    "        plt.ylim(-15, 15)\n",
    "        plt.xlim(0, 150)\n",
    "        plt.ylabel(\"X position\", fontsize=12)"
   ]
  },
  {
   "cell_type": "code",
   "execution_count": null,
   "id": "c6f3cead",
   "metadata": {
    "scrolled": true
   },
   "outputs": [],
   "source": [
    "plotting (posr,posw)"
   ]
  },
  {
   "cell_type": "code",
   "execution_count": null,
   "id": "a8e17346",
   "metadata": {
    "scrolled": true
   },
   "outputs": [],
   "source": [
    "plotting (posr_opposite,posw_opposite)"
   ]
  },
  {
   "cell_type": "code",
   "execution_count": null,
   "id": "2c436974",
   "metadata": {},
   "outputs": [],
   "source": [
    "#plot\n",
    "def plotting (posr,):\n",
    "    n_path = posr.shape[1]\n",
    "    for i in range(n_path):\n",
    "    \n",
    "        fig = plt.figure(figsize=(10, 5))\n",
    "        inv = np.count_nonzero(np.isnan(posr[:, i]))+1\n",
    "        if np.nanmean(posr[:, i]) < 0:\n",
    "            mean_side = 'L'\n",
    "        else : \n",
    "            mean_side = 'R'\n",
    "        if posr[:, i][-inv] < 0 :\n",
    "            lv = 'L'\n",
    "        else :\n",
    "            lv = 'R'\n",
    "        if mean_side == 'L' and lv == \"L\" or mean_side == 'R' and lv == \"R\" :\n",
    "            cond =\"same\"\n",
    "        else: \n",
    "            cond = \"opposite\"   \n",
    "        plt.subplot(2, 1, 1)\n",
    "        plt.plot(range(posr[:, i].shape[0]), posr[:, i], label='iid', linewidth=1)\n",
    "        plt.plot(posr[:, i].shape[0]-inv, posr[-inv, i], 'o-' ,color='k')\n",
    "        \n",
    "#         plt..plot(iid_ind[-f_m,i], iid_ind.shape[0]-(f_m+1), 'o-' ,color='k',label=f'last visibl {round(iid_ind[-f_m,i],3)}')\n",
    "        \n",
    "        plt.plot([len(posr[:, i]) - inv, len(posr[:, i]) - inv], plt.ylim(), '--')\n",
    "        \n",
    "        plt.hlines(0, 0, len(posr[:, i]),'k',  alpha=0.2)\n",
    "\n",
    "        plt.subplots_adjust(hspace=0)\n",
    "    #     plt.title(f\"IID path ({mean_side}{lv}{cond})\")\n",
    "        plt.ylim(-15, 15)\n",
    "        plt.xlim(0, 150)\n",
    "        plt.ylabel(\"X position\", fontsize=12)\n",
    "        plt.legend()\n",
    "\n",
    "        plt.subplots_adjust(hspace=0)\n",
    "        plt.title(f\"path {i} {cond}, (mu: {round(np.nanmean(posr[:, i]),3)}, sd: {round(np.nanstd(posr[:, i]),3)} ) \")\n",
    "        plt.ylim(-15, 15)\n",
    "        plt.xlim(0, 150)\n",
    "        plt.ylabel(\"X position\", fontsize=12)"
   ]
  },
  {
   "cell_type": "code",
   "execution_count": null,
   "id": "9f720334",
   "metadata": {
    "scrolled": true
   },
   "outputs": [],
   "source": [
    "plotting (posr_opposite)"
   ]
  },
  {
   "cell_type": "code",
   "execution_count": null,
   "id": "c5c09ac9",
   "metadata": {},
   "outputs": [],
   "source": [
    "resp_iid_opposite_mean = np.mean(resp_iid_opposite, axis=1)\n",
    "resp_iid_opposite_mean"
   ]
  },
  {
   "cell_type": "code",
   "execution_count": null,
   "id": "f64ce367",
   "metadata": {},
   "outputs": [],
   "source": [
    "import matplotlib.pyplot as plt\n",
    "import numpy as np\n",
    "\n",
    "def plotting(posr, resp_iid_opposite):\n",
    "    n_path = posr.shape[1]\n",
    "    \n",
    "    for i in range(n_path):     \n",
    "        fig, axes = plt.subplots(nrows=2, ncols=1, figsize=(6, 4), gridspec_kw={'height_ratios': [1, 2]})\n",
    "\n",
    "        inv = np.count_nonzero(np.isnan(posr[:, i])) + 1\n",
    "        mean_side = 'L' if np.nanmean(posr[:, i]) < 0 else 'R'\n",
    "        lv = 'L' if posr[:, i][-inv] < 0 else 'R'\n",
    "        cond = \"same\" if (mean_side == 'L' and lv == \"L\") or (mean_side == 'R' and lv == \"R\") else \"opposite\"\n",
    "        \n",
    "        # Count the number of 0s and 1s for each trajectory\n",
    "        counts_1 = np.sum(resp_iid_opposite[i], axis=0)\n",
    "        counts_0 = resp_iid_opposite.shape[1] - counts_1\n",
    "        mean_last = round(np.nanmean(posr_opposite[-inv-4:, i]),3)\n",
    "\n",
    "        # Plot Binary Responses (Top subplot - Bar chart)\n",
    "        participant_indices = np.array([0, 1])  # Updated indices for columns 0 and 1\n",
    "        colors = ['blue', 'green']\n",
    "        width = 0.4  # Adjust the width of the bars\n",
    "        bars_0 = axes[0].bar(participant_indices[0], counts_0, color=colors[0], label='Count 0')\n",
    "        bars_1 = axes[0].bar(participant_indices[1], counts_1, color=colors[1], label='Count 1')\n",
    "\n",
    "        axes[0].set_xlim(-0.5, 1.5)\n",
    "        axes[0].set_ylim(0, 30)\n",
    "        axes[0].set_xticks(participant_indices)\n",
    "        axes[0].set_xticklabels(['right resp', 'left resp'])\n",
    "        axes[0].set_xlabel(\"Number\", fontsize=12)\n",
    "        axes[0].set_ylabel(\"Respons\", fontsize=12)\n",
    "        axes[0].legend()\n",
    "   \n",
    "\n",
    "        # Annotate bar chart with values\n",
    "        for bar, count in zip(bars_0 + bars_1, [counts_0, counts_1]):\n",
    "            height = bar.get_height()\n",
    "            axes[0].annotate(f'{count}', xy=(bar.get_x() + bar.get_width() / 2, height),\n",
    "                             xytext=(0, 3), textcoords='offset points',\n",
    "                             ha='center', va='bottom')\n",
    "\n",
    "        # Plot Trajectory (Bottom subplot)\n",
    "        axes[1].plot(range(posr[:, i].shape[0]), posr[:, i], label=f'iid (mu_last5 {mean_last})', linewidth=1)\n",
    "        axes[1].plot(posr[:, i].shape[0]-inv, posr[-inv, i], 'o-' ,color='k')\n",
    "        axes[1].hlines( 0, 0, len(posr[:, i]), 'k', alpha=0.2 )\n",
    "        axes[1].set_ylim(-15, 15)\n",
    "        axes[1].set_xlim(0, 150)  # Set y-limits for the trajectory plot\n",
    "        axes[1].set_ylabel(\"X position\", fontsize=12)\n",
    "        axes[1].set_xlabel(\"Frame\", fontsize=12)\n",
    "        axes[1].legend()\n",
    "        axes[0].set_title(f\"path {i} {cond} ({mean_side}{lv}), (mu: {round(np.nanmean(posr[:, i]),3)}, sd: {round(np.nanstd(posr[:, i]),3)}, lv {round(posr[-inv, i],2)}) \")\n",
    "\n",
    "        plt.tight_layout()\n",
    "        plt.show()\n",
    "\n",
    "# Example usage:\n",
    "# plotting(posr_opposite, resp_iid_opposite)\n"
   ]
  },
  {
   "cell_type": "code",
   "execution_count": null,
   "id": "5692a003",
   "metadata": {
    "scrolled": true
   },
   "outputs": [],
   "source": [
    "plotting(posr_opposite, resp_iid_opposite)"
   ]
  },
  {
   "cell_type": "code",
   "execution_count": null,
   "id": "17c0fc82",
   "metadata": {},
   "outputs": [],
   "source": [
    "plotting(posr_opposite, resp_iid_opposite)"
   ]
  },
  {
   "cell_type": "code",
   "execution_count": null,
   "id": "53206dd2",
   "metadata": {},
   "outputs": [],
   "source": [
    "n_path = posr_opposite.shape[1]\n",
    "trajectory_data_list = []\n",
    "\n",
    "for i in range(n_path):  \n",
    "    counts_1 = np.sum(resp_iid_opposite[i], axis=0)\n",
    "    counts_0 = resp_iid_opposite.shape[1] - counts_1\n",
    "    inv = np.count_nonzero(np.isnan(posr_opposite[:, i]))\n",
    "    trajectory_data = {\n",
    "        \"inex path\": i, \n",
    "        \"path\": 'iid',\n",
    "        \"cond\": 'opposite', \n",
    "        \"mean_cond\": \"left\" if np.nanmean(posr_same[:, i])<0 else 'right',\n",
    "        \"inv\" : inv,\n",
    "        \"Mean\": round(np.mean(posr_opposite[0:-inv,i]),3),\n",
    "        \"Mean\": round(np.nanmean(posr_opposite[:, i]), 3),\n",
    "        \"Mean_last15\" : round(np.nanmean(posr_opposite[-inv-15:, i]),3),\n",
    "        \"Mean_last10\" : round(np.nanmean(posr_opposite[-inv-10:, i]),3),\n",
    "        \"Mean_last5\" : round(np.nanmean(posr_opposite[-inv-5:, i]),3),\n",
    "        \"Standard Deviation\": round(np.nanstd(posr_opposite[:, i]), 3),\n",
    "        'last visibl' : round(posr_opposite[-(inv+1), i],3),\n",
    "        \"Count 0 (right resp)\": counts_0,\n",
    "        \"Count 1 (left resp)\": counts_1,\n",
    "        \"correct\" : counts_1 if round(np.mean(posr_opposite[0:-inv, i]), 3) < 0 else counts_0,\n",
    "        \"error\": counts_1 if round(np.mean(posr_opposite[0:-inv, i]), 3) > 0 else counts_0,\n",
    "        \"mean=last15\": \"y\" if np.sign(np.nanmean(posr_opposite[-inv-15:, i])) == np.sign(np.mean(posr_opposite[0:-inv,i])) else \"n\",\n",
    "        \"mean=last10\": \"y\" if np.sign(np.nanmean(posr_opposite[-inv-10:, i])) == np.sign(np.mean(posr_opposite[0:-inv,i])) else \"n\",\n",
    "        \"mean=last5\": \"y\" if np.sign(np.nanmean(posr_opposite[-inv-5:, i])) == np.sign(np.mean(posr_opposite[0:-inv,i])) else \"n\",\n",
    "    }\n",
    "    trajectory_data_list.append(trajectory_data)\n",
    "\n",
    "# Create a Pandas DataFrame for all trajectories\n",
    "df = pd.DataFrame(trajectory_data_list)\n",
    "df"
   ]
  },
  {
   "cell_type": "code",
   "execution_count": null,
   "id": "8853d653",
   "metadata": {},
   "outputs": [],
   "source": [
    "df.to_csv('trajectory_info_opposite_28s.csv', index=False)"
   ]
  },
  {
   "cell_type": "markdown",
   "id": "df24123d",
   "metadata": {},
   "source": [
    "### IID same check"
   ]
  },
  {
   "cell_type": "code",
   "execution_count": null,
   "id": "74583f46",
   "metadata": {},
   "outputs": [],
   "source": [
    "resp_iid_same"
   ]
  },
  {
   "cell_type": "code",
   "execution_count": null,
   "id": "8bda9ed2",
   "metadata": {},
   "outputs": [],
   "source": [
    "resp_iid_same_mean = np.mean(resp_iid_same, axis=1)\n",
    "np.round(resp_iid_same_mean,2)"
   ]
  },
  {
   "cell_type": "code",
   "execution_count": null,
   "id": "d0475cbf",
   "metadata": {},
   "outputs": [],
   "source": [
    "resp_iid_same.shape"
   ]
  },
  {
   "cell_type": "code",
   "execution_count": null,
   "id": "d1a7f66a",
   "metadata": {},
   "outputs": [],
   "source": [
    "plotting(posr_same, resp_iid_same)"
   ]
  },
  {
   "cell_type": "code",
   "execution_count": null,
   "id": "58700967",
   "metadata": {},
   "outputs": [],
   "source": [
    "n_path = posr_same.shape[1]\n",
    "trajectory_data_list = []\n",
    "\n",
    "for i in range(n_path):  \n",
    "    counts_1 = np.sum(resp_iid_same[i], axis=0)\n",
    "    counts_0 = resp_iid_same.shape[1] - counts_1\n",
    "    inv = np.count_nonzero(np.isnan(posr_same[:, i]))\n",
    "    trajectory_data = {\n",
    "        \"inex path\": i,\n",
    "        \"path\": 'iid',\n",
    "        \"cond\": 'same',\n",
    "        \"inv\" : inv,\n",
    "        \"mean_cond\": \"left\" if np.nanmean(posr_same[:, i])<0 else 'right',\n",
    "        \"Mean\": round(np.nanmean(posr_same[:, i]), 3),\n",
    "        \"Mean_last15\" : round(np.nanmean(posr_same[-inv-15:, i]),3),\n",
    "        \"Mean_last10\" : round(np.nanmean(posr_same[-inv-10:, i]),3),\n",
    "        \"Mean_last5\" : round(np.nanmean(posr_same[-inv-5:, i]),3),\n",
    "        \"Standard Deviation\": round(np.nanstd(posr_same[:, i]), 3),\n",
    "        'last visibl' : round(posr_same[-(inv+1), i],3),\n",
    "        \"Count 0 (right resp)\": counts_0,\n",
    "        \"Count 1 (left resp)\": counts_1,\n",
    "        \"correct\" : counts_1 if round(np.mean(posr_same[0:-inv, i]), 3) < 0 else counts_0,\n",
    "        \"error\": counts_1 if round(np.mean(posr_same[0:-inv, i]), 3) > 0 else counts_0,\n",
    "        \"mean=last15\": \"y\" if np.sign(np.nanmean(posr_same[-inv-15:, i])) == np.sign(np.mean(posr_same[0:-inv,i])) else \"n\",\n",
    "        \"mean=last10\": \"y\" if np.sign(np.nanmean(posr_same[-inv-10:, i])) == np.sign(np.mean(posr_same[0:-inv,i])) else \"n\",\n",
    "        \"mean=last5\": \"y\" if np.sign(np.nanmean(posr_same[-inv-5:, i])) == np.sign(np.mean(posr_same[0:-inv,i])) else \"n\",\n",
    "    }\n",
    "    trajectory_data_list.append(trajectory_data)\n",
    "# Create a Pandas DataFrame for all trajectories\n",
    "df_same = pd.DataFrame(trajectory_data_list)\n",
    "df_same"
   ]
  },
  {
   "cell_type": "code",
   "execution_count": null,
   "id": "0ad0dfc9",
   "metadata": {},
   "outputs": [],
   "source": [
    "df_same['inv'].tolist()"
   ]
  },
  {
   "cell_type": "code",
   "execution_count": null,
   "id": "24950b22",
   "metadata": {},
   "outputs": [],
   "source": [
    "df_same.to_csv('trajectory_info_same_28s.csv', index=False)"
   ]
  }
 ],
 "metadata": {
  "kernelspec": {
   "display_name": "Python 3 (ipykernel)",
   "language": "python",
   "name": "python3"
  },
  "language_info": {
   "codemirror_mode": {
    "name": "ipython",
    "version": 3
   },
   "file_extension": ".py",
   "mimetype": "text/x-python",
   "name": "python",
   "nbconvert_exporter": "python",
   "pygments_lexer": "ipython3",
   "version": "3.11.7"
  }
 },
 "nbformat": 4,
 "nbformat_minor": 5
}
