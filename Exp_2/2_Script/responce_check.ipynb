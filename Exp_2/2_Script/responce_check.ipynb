{
 "cells": [
  {
   "cell_type": "code",
   "execution_count": null,
   "id": "7491fa25",
   "metadata": {},
   "outputs": [],
   "source": [
    "import random\n",
    "import numpy as np\n",
    "import matplotlib.pyplot as plt\n",
    "import pathlib\n",
    "import pandas as pd\n",
    "import scipy\n",
    "from scipy.optimize import minimize\n",
    "import seaborn as sns\n",
    "import matplotlib.pyplot as plt\n",
    "from scipy.stats import linregress\n",
    "import statsmodels.api as sm"
   ]
  },
  {
   "cell_type": "code",
   "execution_count": null,
   "id": "93f79801",
   "metadata": {},
   "outputs": [],
   "source": [
    "iid_equal = pd.read_csv('all_subject_equal.csv',sep =\"\\t\", header=0)\n",
    "iid_n_equal = pd.read_csv('all_subject_n_equal.csv',sep =\"\\t\", header=0)"
   ]
  },
  {
   "cell_type": "code",
   "execution_count": null,
   "id": "ebd6ec47",
   "metadata": {},
   "outputs": [],
   "source": [
    "iid_n_equal.columns"
   ]
  },
  {
   "cell_type": "code",
   "execution_count": null,
   "id": "a009602c",
   "metadata": {},
   "outputs": [],
   "source": [
    "def path_responces (path):\n",
    "    grouped_data = path.groupby(['index_traj', 'condition', 'mean_side']).agg(\n",
    "    path=pd.NamedAgg(column='path', aggfunc='first'),\n",
    "    last_cond=pd.NamedAgg(column='last_cond', aggfunc='first'),\n",
    "    index_old=pd.NamedAgg(column='index_old', aggfunc='first'),\n",
    "    mean_val=pd.NamedAgg(column='mean_val', aggfunc='first'),\n",
    "    mean_last5=pd.NamedAgg(column='mean_last5', aggfunc='first'),\n",
    "    mean_last15=pd.NamedAgg(column='mean_last15', aggfunc='first'),\n",
    "    sd=pd.NamedAgg(column='sd', aggfunc='first'),\n",
    "    last_visibl_side=pd.NamedAgg(column='last_visibl_side', aggfunc='first'),\n",
    "    f_missing_pos=pd.NamedAgg(column='f_missing_pos', aggfunc='first'),\n",
    "    last_visibl_center_dist_deg=pd.NamedAgg(column='last_visibl_center_dist[deg]', aggfunc='first'),\n",
    "    correct=pd.NamedAgg(column='accuracy', aggfunc=lambda x: (x == 1).sum()),\n",
    "    error=pd.NamedAgg(column='accuracy', aggfunc=lambda x: (x == 0).sum()),\n",
    "    acc=pd.NamedAgg(column='accuracy', aggfunc=lambda x: np.round(x.mean(), 3)),\n",
    "    RT=pd.NamedAgg(column='RT', aggfunc=lambda x: np.round(x.mean(), 3))).reset_index()\n",
    "    grouped_data['mean_abs'] = grouped_data['mean_val'].apply(abs)\n",
    "    group_sd = []\n",
    "    for sd in grouped_data['sd']:\n",
    "        if sd < 3.4:\n",
    "            group_sd.append(1)\n",
    "        elif 3.4 <= sd < 5.3:\n",
    "            group_sd.append(2)\n",
    "        else:  # Assuming sd >= 5.5\n",
    "            group_sd.append(3)\n",
    "    grouped_data['group_sd'] = group_sd\n",
    "    grouped_data['mean/std'] = round( abs(grouped_data['mean_val']/ grouped_data['sd']),3)\n",
    "    # Calculating the difference between mean_abs and JND for each group\n",
    "    diff_list = []\n",
    "    # jnd_values = {1: 0.386, 2: 0.581, 3: 0.654}\n",
    "    # jnd_values = {1: 1.3, 2: 1.3, 3: 1.3}\n",
    "    jnd_values = {1: 0.6, 2: 0.9, 3: 1.3}\n",
    "    for i in range(grouped_data.shape[0]):\n",
    "        group = grouped_data['group_sd'][i]\n",
    "        jnd = jnd_values[group]\n",
    "    #     diff = round(abs(grouped_data['mean_abs'][i] - jnd), 3)\n",
    "        diff = round(grouped_data['mean_abs'][i] - jnd, 3)\n",
    "        diff_list.append(diff)\n",
    "\n",
    "    grouped_data['mu-jnd'] = diff_list\n",
    "\n",
    "    return grouped_data\n",
    "    "
   ]
  },
  {
   "cell_type": "code",
   "execution_count": null,
   "id": "b09e37fc",
   "metadata": {},
   "outputs": [],
   "source": [
    "grouped_iid_n_equal=path_responces (iid_n_equal)\n",
    "grouped_iid_equal=path_responces (iid_equal)\n",
    "grouped_iid_n_equal"
   ]
  },
  {
   "cell_type": "code",
   "execution_count": null,
   "id": "669d83aa",
   "metadata": {},
   "outputs": [],
   "source": [
    "def make_LR_mu_std(grouped_data):\n",
    "    models = []\n",
    "\n",
    "    grouped = grouped_data.groupby(['path',])\n",
    "\n",
    "    for group_name, group_data in grouped:\n",
    "        X = sm.add_constant(group_data['mean/std'])  \n",
    "        y = group_data['acc']  \n",
    "        model = sm.OLS(y, X).fit()  \n",
    "        models.append((group_name, model))  \n",
    "\n",
    "    for group_name, model in models:\n",
    "        print(f\"Group : {group_name}, {grouped_data['last_cond']}\")\n",
    "        print(model.summary())\n",
    "        print(\"\\n\")\n",
    "    return models"
   ]
  },
  {
   "cell_type": "code",
   "execution_count": null,
   "id": "f3439c98",
   "metadata": {},
   "outputs": [],
   "source": [
    "models_n_equal = make_LR_mu_std(grouped_iid_n_equal)\n",
    "models_equal = make_LR_mu_std(grouped_iid_equal)"
   ]
  },
  {
   "cell_type": "code",
   "execution_count": null,
   "id": "6d812177",
   "metadata": {},
   "outputs": [],
   "source": []
  },
  {
   "cell_type": "code",
   "execution_count": null,
   "id": "5daa16c6",
   "metadata": {},
   "outputs": [],
   "source": [
    "def make_LR(grouped_data):\n",
    "    models = []\n",
    "\n",
    "    grouped = grouped_data.groupby(['path',])\n",
    "\n",
    "    for group_name, group_data in grouped:\n",
    "        X = sm.add_constant(group_data['mu-jnd'])  \n",
    "        y = group_data['acc']  \n",
    "        model = sm.OLS(y, X).fit()  \n",
    "        models.append((group_name, model))  \n",
    "\n",
    "    for group_name, model in models:\n",
    "        print(f\"Group : {group_name}, {grouped_data['last_cond']}\")\n",
    "        print(model.summary())\n",
    "        print(\"\\n\")\n",
    "    return models"
   ]
  },
  {
   "cell_type": "code",
   "execution_count": null,
   "id": "4d45b367",
   "metadata": {
    "scrolled": true
   },
   "outputs": [],
   "source": [
    "models_n_equal = make_LR(grouped_iid_n_equal)\n",
    "models_n_equal = make_LR(grouped_iid_equal)"
   ]
  },
  {
   "cell_type": "code",
   "execution_count": null,
   "id": "642ccfd1",
   "metadata": {},
   "outputs": [],
   "source": [
    "def plotting (grouped_data_1,grouped_data_2):\n",
    "#     plt.subplot(1,1,1)\n",
    "    sns.lmplot(x='mu-jnd',\n",
    "           y='acc',\n",
    "           data=grouped_data_1,\n",
    "           hue='path',\n",
    "           ci=None,\n",
    "           scatter_kws={'alpha': 0.5})\n",
    "    plt.title('IID EQUAL: mu-jnd vs acc ')\n",
    "    plt.xlabel('mu-jnd difference')\n",
    "    plt.ylabel('mean acc')\n",
    "    # Linear regression by mean_cond groups\n",
    "    linear_regression_by_group = grouped_data_1.groupby('path').apply(\n",
    "        lambda group: linregress(group['mu-jnd'], group['acc']))\n",
    "    print(\"IID EQUAL:\")\n",
    "    for group, result in zip(linear_regression_by_group.index,\n",
    "                             linear_regression_by_group):\n",
    "        slope, intercept, r_value, p_value, std_err = result\n",
    "        \n",
    "        print(\n",
    "            f\"Group: {group}, Slope = {round(slope,3)}, Intercept = {round(intercept,3)}, $R^2$={r_value**2:.2f}, P-value = {round(p_value,3)}, Std_err = {round(std_err,3)}\"\n",
    "        )\n",
    "    sns.lmplot(x='mu-jnd',\n",
    "           y='acc',\n",
    "           data=grouped_data_2,\n",
    "           hue='path',\n",
    "           ci=None,\n",
    "           scatter_kws={'alpha': 0.5})\n",
    "    plt.title('IID NOT EQUAL: mu-jnd vs acc ')\n",
    "    plt.xlabel('mu-jnd difference')\n",
    "    plt.ylabel('mean acc')\n",
    "    # Linear regression by mean_cond groups\n",
    "    linear_regression_by_group = grouped_data_2.groupby('path').apply(\n",
    "        lambda group: linregress(group['mu-jnd'], group['acc']))\n",
    "    print(\"IID NOT EQUAL:\")\n",
    "    for group, result in zip(linear_regression_by_group.index,\n",
    "                             linear_regression_by_group):\n",
    "        slope, intercept, r_value, p_value, std_err = result\n",
    "        \n",
    "        print(\n",
    "            f\"Group: {group}, Slope = {round(slope,3)}, Intercept = {round(intercept,3)}, $R^2$={r_value**2:.2f}, P-value = {round(p_value,3)}, Std_err = {round(std_err,3)}\"\n",
    "        )\n",
    "        "
   ]
  },
  {
   "cell_type": "code",
   "execution_count": null,
   "id": "b7505841",
   "metadata": {},
   "outputs": [],
   "source": [
    "plotting (grouped_iid_equal,grouped_iid_n_equal)"
   ]
  },
  {
   "cell_type": "code",
   "execution_count": null,
   "id": "8027e568",
   "metadata": {
    "scrolled": true
   },
   "outputs": [],
   "source": [
    "# Scatter plot with regression line\n",
    "sns.lmplot(x='mean/std', y='acc', data=grouped_iid_equal, ci=None, scatter_kws={'alpha':0.5})\n",
    "plt.title('IID EQUAL: mean/std vs acc')\n",
    "plt.xlabel('mean/std')\n",
    "plt.ylabel('acc ')\n",
    "plt.show()\n",
    "\n",
    "slope, intercept, r_value, p_value, std_err = linregress(grouped_iid_equal['mean/std'], grouped_iid_equal['acc'])\n",
    "print(f\"IID EQUAL: slope = {round(slope,3)}, intercept = {round(intercept,3)}, r_value = {round(r_value,3)}, p_value = {round(p_value,3)}, std_err = {round(std_err,3)}\")\n",
    "\n",
    "sns.lmplot(x='mean/std', y='acc', data=grouped_iid_n_equal, ci=None, scatter_kws={'alpha':0.5})\n",
    "plt.title('IID NOT EQUAL: mu-jndvs acc')\n",
    "plt.xlabel('mean/std')\n",
    "plt.ylabel('acc ')\n",
    "plt.show()\n",
    "\n",
    "slope, intercept, r_value, p_value, std_err = linregress(grouped_iid_n_equal['mean/std'], grouped_iid_n_equal['acc'])\n",
    "print(f\"IID NOT EQUAL: slope = {round(slope,3)}, intercept = {round(intercept,3)}, r_value = {round(r_value,3)}, p_value = {round(p_value,3)}, std_err = {round(std_err,3)}\")"
   ]
  },
  {
   "cell_type": "code",
   "execution_count": null,
   "id": "368aa4e4",
   "metadata": {},
   "outputs": [],
   "source": []
  },
  {
   "cell_type": "code",
   "execution_count": null,
   "id": "2c745a69",
   "metadata": {},
   "outputs": [],
   "source": []
  },
  {
   "cell_type": "code",
   "execution_count": null,
   "id": "15de2eea",
   "metadata": {},
   "outputs": [],
   "source": []
  },
  {
   "cell_type": "code",
   "execution_count": null,
   "id": "246378de",
   "metadata": {},
   "outputs": [],
   "source": []
  }
 ],
 "metadata": {
  "kernelspec": {
   "display_name": "Python 3 (ipykernel)",
   "language": "python",
   "name": "python3"
  },
  "language_info": {
   "codemirror_mode": {
    "name": "ipython",
    "version": 3
   },
   "file_extension": ".py",
   "mimetype": "text/x-python",
   "name": "python",
   "nbconvert_exporter": "python",
   "pygments_lexer": "ipython3",
   "version": "3.11.7"
  }
 },
 "nbformat": 4,
 "nbformat_minor": 5
}
